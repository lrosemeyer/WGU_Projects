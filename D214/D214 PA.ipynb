{
  "nbformat": 4,
  "nbformat_minor": 0,
  "metadata": {
    "colab": {
      "provenance": [],
      "toc_visible": true
    },
    "kernelspec": {
      "name": "python3",
      "display_name": "Python 3"
    },
    "language_info": {
      "name": "python"
    }
  },
  "cells": [
    {
      "cell_type": "code",
      "execution_count": null,
      "metadata": {
        "id": "x8ElJlTgMZOp"
      },
      "outputs": [],
      "source": [
        "import pandas as pd"
      ]
    },
    {
      "cell_type": "code",
      "source": [
        "diesel = pd.read_csv(\"Diesel1998.csv\")\n",
        "eggs = pd.read_csv(\"Eggs1980.csv\")\n",
        "flour = pd.read_csv(\"Flour1980.csv\")\n",
        "lettuce = pd.read_csv(\"Lettuce19802020.csv\")\n",
        "potatoes = pd.read_csv(\"Potato1986.csv\")\n",
        "strawberries = pd.read_csv(\"Strawberry1980.csv\")\n",
        "tomatoes = pd.read_csv(\"Tomato1980.csv\")\n",
        "bananas = pd.read_csv(\"Banana1980.csv\")\n",
        "beef = pd.read_csv(\"Beef1984.csv\")\n",
        "bread = pd.read_csv(\"Bread1980.csv\")\n",
        "chicken = pd.read_csv(\"Chicken1980.csv\")"
      ],
      "metadata": {
        "id": "bP-76BgsMc63"
      },
      "execution_count": null,
      "outputs": []
    },
    {
      "cell_type": "code",
      "source": [
        "diesel.head()"
      ],
      "metadata": {
        "id": "unw_2UkBOzDA",
        "colab": {
          "base_uri": "https://localhost:8080/",
          "height": 206
        },
        "outputId": "b0472685-5b48-4f03-b1a5-fb01d7c7cb67"
      },
      "execution_count": null,
      "outputs": [
        {
          "output_type": "execute_result",
          "data": {
            "text/plain": [
              "      Series ID  Year Period     Label  Value\n",
              "0  APU000074717  1998    M01  1998 Jan  1.250\n",
              "1  APU000074717  1998    M02  1998 Feb  1.220\n",
              "2  APU000074717  1998    M03  1998 Mar  1.192\n",
              "3  APU000074717  1998    M04  1998 Apr  1.184\n",
              "4  APU000074717  1998    M05  1998 May  1.190"
            ],
            "text/html": [
              "\n",
              "  <div id=\"df-6d49491f-a63c-423f-8c1b-f5f4ee310e74\">\n",
              "    <div class=\"colab-df-container\">\n",
              "      <div>\n",
              "<style scoped>\n",
              "    .dataframe tbody tr th:only-of-type {\n",
              "        vertical-align: middle;\n",
              "    }\n",
              "\n",
              "    .dataframe tbody tr th {\n",
              "        vertical-align: top;\n",
              "    }\n",
              "\n",
              "    .dataframe thead th {\n",
              "        text-align: right;\n",
              "    }\n",
              "</style>\n",
              "<table border=\"1\" class=\"dataframe\">\n",
              "  <thead>\n",
              "    <tr style=\"text-align: right;\">\n",
              "      <th></th>\n",
              "      <th>Series ID</th>\n",
              "      <th>Year</th>\n",
              "      <th>Period</th>\n",
              "      <th>Label</th>\n",
              "      <th>Value</th>\n",
              "    </tr>\n",
              "  </thead>\n",
              "  <tbody>\n",
              "    <tr>\n",
              "      <th>0</th>\n",
              "      <td>APU000074717</td>\n",
              "      <td>1998</td>\n",
              "      <td>M01</td>\n",
              "      <td>1998 Jan</td>\n",
              "      <td>1.250</td>\n",
              "    </tr>\n",
              "    <tr>\n",
              "      <th>1</th>\n",
              "      <td>APU000074717</td>\n",
              "      <td>1998</td>\n",
              "      <td>M02</td>\n",
              "      <td>1998 Feb</td>\n",
              "      <td>1.220</td>\n",
              "    </tr>\n",
              "    <tr>\n",
              "      <th>2</th>\n",
              "      <td>APU000074717</td>\n",
              "      <td>1998</td>\n",
              "      <td>M03</td>\n",
              "      <td>1998 Mar</td>\n",
              "      <td>1.192</td>\n",
              "    </tr>\n",
              "    <tr>\n",
              "      <th>3</th>\n",
              "      <td>APU000074717</td>\n",
              "      <td>1998</td>\n",
              "      <td>M04</td>\n",
              "      <td>1998 Apr</td>\n",
              "      <td>1.184</td>\n",
              "    </tr>\n",
              "    <tr>\n",
              "      <th>4</th>\n",
              "      <td>APU000074717</td>\n",
              "      <td>1998</td>\n",
              "      <td>M05</td>\n",
              "      <td>1998 May</td>\n",
              "      <td>1.190</td>\n",
              "    </tr>\n",
              "  </tbody>\n",
              "</table>\n",
              "</div>\n",
              "      <button class=\"colab-df-convert\" onclick=\"convertToInteractive('df-6d49491f-a63c-423f-8c1b-f5f4ee310e74')\"\n",
              "              title=\"Convert this dataframe to an interactive table.\"\n",
              "              style=\"display:none;\">\n",
              "        \n",
              "  <svg xmlns=\"http://www.w3.org/2000/svg\" height=\"24px\"viewBox=\"0 0 24 24\"\n",
              "       width=\"24px\">\n",
              "    <path d=\"M0 0h24v24H0V0z\" fill=\"none\"/>\n",
              "    <path d=\"M18.56 5.44l.94 2.06.94-2.06 2.06-.94-2.06-.94-.94-2.06-.94 2.06-2.06.94zm-11 1L8.5 8.5l.94-2.06 2.06-.94-2.06-.94L8.5 2.5l-.94 2.06-2.06.94zm10 10l.94 2.06.94-2.06 2.06-.94-2.06-.94-.94-2.06-.94 2.06-2.06.94z\"/><path d=\"M17.41 7.96l-1.37-1.37c-.4-.4-.92-.59-1.43-.59-.52 0-1.04.2-1.43.59L10.3 9.45l-7.72 7.72c-.78.78-.78 2.05 0 2.83L4 21.41c.39.39.9.59 1.41.59.51 0 1.02-.2 1.41-.59l7.78-7.78 2.81-2.81c.8-.78.8-2.07 0-2.86zM5.41 20L4 18.59l7.72-7.72 1.47 1.35L5.41 20z\"/>\n",
              "  </svg>\n",
              "      </button>\n",
              "      \n",
              "  <style>\n",
              "    .colab-df-container {\n",
              "      display:flex;\n",
              "      flex-wrap:wrap;\n",
              "      gap: 12px;\n",
              "    }\n",
              "\n",
              "    .colab-df-convert {\n",
              "      background-color: #E8F0FE;\n",
              "      border: none;\n",
              "      border-radius: 50%;\n",
              "      cursor: pointer;\n",
              "      display: none;\n",
              "      fill: #1967D2;\n",
              "      height: 32px;\n",
              "      padding: 0 0 0 0;\n",
              "      width: 32px;\n",
              "    }\n",
              "\n",
              "    .colab-df-convert:hover {\n",
              "      background-color: #E2EBFA;\n",
              "      box-shadow: 0px 1px 2px rgba(60, 64, 67, 0.3), 0px 1px 3px 1px rgba(60, 64, 67, 0.15);\n",
              "      fill: #174EA6;\n",
              "    }\n",
              "\n",
              "    [theme=dark] .colab-df-convert {\n",
              "      background-color: #3B4455;\n",
              "      fill: #D2E3FC;\n",
              "    }\n",
              "\n",
              "    [theme=dark] .colab-df-convert:hover {\n",
              "      background-color: #434B5C;\n",
              "      box-shadow: 0px 1px 3px 1px rgba(0, 0, 0, 0.15);\n",
              "      filter: drop-shadow(0px 1px 2px rgba(0, 0, 0, 0.3));\n",
              "      fill: #FFFFFF;\n",
              "    }\n",
              "  </style>\n",
              "\n",
              "      <script>\n",
              "        const buttonEl =\n",
              "          document.querySelector('#df-6d49491f-a63c-423f-8c1b-f5f4ee310e74 button.colab-df-convert');\n",
              "        buttonEl.style.display =\n",
              "          google.colab.kernel.accessAllowed ? 'block' : 'none';\n",
              "\n",
              "        async function convertToInteractive(key) {\n",
              "          const element = document.querySelector('#df-6d49491f-a63c-423f-8c1b-f5f4ee310e74');\n",
              "          const dataTable =\n",
              "            await google.colab.kernel.invokeFunction('convertToInteractive',\n",
              "                                                     [key], {});\n",
              "          if (!dataTable) return;\n",
              "\n",
              "          const docLinkHtml = 'Like what you see? Visit the ' +\n",
              "            '<a target=\"_blank\" href=https://colab.research.google.com/notebooks/data_table.ipynb>data table notebook</a>'\n",
              "            + ' to learn more about interactive tables.';\n",
              "          element.innerHTML = '';\n",
              "          dataTable['output_type'] = 'display_data';\n",
              "          await google.colab.output.renderOutput(dataTable, element);\n",
              "          const docLink = document.createElement('div');\n",
              "          docLink.innerHTML = docLinkHtml;\n",
              "          element.appendChild(docLink);\n",
              "        }\n",
              "      </script>\n",
              "    </div>\n",
              "  </div>\n",
              "  "
            ]
          },
          "metadata": {},
          "execution_count": 241
        }
      ]
    },
    {
      "cell_type": "code",
      "source": [
        "diesel = diesel[diesel.Year < 2023]\n",
        "eggs = eggs[(eggs.Year >=1998) & (eggs.Year < 2023)]\n",
        "flour = flour[(flour.Year >= 1998) & (flour.Year < 2023)]\n",
        "lettuce = lettuce[(lettuce.Year >= 1998) & (lettuce.Year < 2023)]\n",
        "potatoes = potatoes[(potatoes.Year >= 1998) & (potatoes.Year < 2023)]\n",
        "strawberries = strawberries[(strawberries.Year >= 1998) & (strawberries.Year <2023)]\n",
        "tomatoes = tomatoes[(tomatoes.Year >= 1998) & (tomatoes.Year < 2023)]\n",
        "bananas = bananas[(bananas.Year >= 1998) & (bananas.Year < 2023)]\n",
        "beef = beef[(beef.Year >= 1998) & (beef.Year < 2023)]\n",
        "bread = bread[(bread.Year >=1998) & (bread.Year < 2023)]\n",
        "chicken = chicken[(chicken.Year >= 1998) & (chicken.Year < 2023)]"
      ],
      "metadata": {
        "id": "gZbUl7ulV8xD"
      },
      "execution_count": null,
      "outputs": []
    },
    {
      "cell_type": "code",
      "source": [
        "diesel.Year.value_counts()"
      ],
      "metadata": {
        "collapsed": true,
        "id": "u8ujPC7vY6io",
        "colab": {
          "base_uri": "https://localhost:8080/"
        },
        "outputId": "9a11f131-5d93-44ea-c866-c6e3b4e9101d"
      },
      "execution_count": null,
      "outputs": [
        {
          "output_type": "execute_result",
          "data": {
            "text/plain": [
              "1998    12\n",
              "2011    12\n",
              "2021    12\n",
              "2020    12\n",
              "2019    12\n",
              "2018    12\n",
              "2017    12\n",
              "2016    12\n",
              "2015    12\n",
              "2014    12\n",
              "2013    12\n",
              "2012    12\n",
              "2010    12\n",
              "1999    12\n",
              "2009    12\n",
              "2008    12\n",
              "2007    12\n",
              "2006    12\n",
              "2005    12\n",
              "2004    12\n",
              "2003    12\n",
              "2002    12\n",
              "2001    12\n",
              "2000    12\n",
              "2022    12\n",
              "Name: Year, dtype: int64"
            ]
          },
          "metadata": {},
          "execution_count": 243
        }
      ]
    },
    {
      "cell_type": "code",
      "source": [
        "eggs[\"Year\"].value_counts()"
      ],
      "metadata": {
        "collapsed": true,
        "id": "RlgnBUnIZM4T",
        "colab": {
          "base_uri": "https://localhost:8080/"
        },
        "outputId": "b809a818-da74-49b5-9c5f-f324ea9b61f2"
      },
      "execution_count": null,
      "outputs": [
        {
          "output_type": "execute_result",
          "data": {
            "text/plain": [
              "1998    12\n",
              "2011    12\n",
              "2021    12\n",
              "2020    12\n",
              "2019    12\n",
              "2018    12\n",
              "2017    12\n",
              "2016    12\n",
              "2015    12\n",
              "2014    12\n",
              "2013    12\n",
              "2012    12\n",
              "2010    12\n",
              "1999    12\n",
              "2009    12\n",
              "2008    12\n",
              "2007    12\n",
              "2006    12\n",
              "2005    12\n",
              "2004    12\n",
              "2003    12\n",
              "2002    12\n",
              "2001    12\n",
              "2000    12\n",
              "2022    12\n",
              "Name: Year, dtype: int64"
            ]
          },
          "metadata": {},
          "execution_count": 244
        }
      ]
    },
    {
      "cell_type": "code",
      "source": [
        "beef[\"Year\"].value_counts()"
      ],
      "metadata": {
        "collapsed": true,
        "id": "Rji88pz3ZL59",
        "colab": {
          "base_uri": "https://localhost:8080/"
        },
        "outputId": "9bbaddec-22d6-41b7-d503-4f2d250edac4"
      },
      "execution_count": null,
      "outputs": [
        {
          "output_type": "execute_result",
          "data": {
            "text/plain": [
              "1998    12\n",
              "1999    12\n",
              "2021    12\n",
              "2020    12\n",
              "2019    12\n",
              "2018    12\n",
              "2017    12\n",
              "2016    12\n",
              "2015    12\n",
              "2014    12\n",
              "2013    12\n",
              "2011    12\n",
              "2010    12\n",
              "2009    12\n",
              "2008    12\n",
              "2007    12\n",
              "2006    12\n",
              "2005    12\n",
              "2004    12\n",
              "2003    12\n",
              "2002    12\n",
              "2001    12\n",
              "2000    12\n",
              "2022    12\n",
              "2012    11\n",
              "Name: Year, dtype: int64"
            ]
          },
          "metadata": {},
          "execution_count": 245
        }
      ]
    },
    {
      "cell_type": "code",
      "source": [
        "print(beef[beef.Year == 2012])"
      ],
      "metadata": {
        "collapsed": true,
        "id": "NfdD-xOLYpR6",
        "colab": {
          "base_uri": "https://localhost:8080/"
        },
        "outputId": "739a298f-3322-44f6-c061-e08d907c885e"
      },
      "execution_count": null,
      "outputs": [
        {
          "output_type": "stream",
          "name": "stdout",
          "text": [
            "         Series ID  Year Period     Label  Value\n",
            "336  APU0000703112  2012    M01  2012 Jan  3.005\n",
            "337  APU0000703112  2012    M02  2012 Feb  2.947\n",
            "338  APU0000703112  2012    M03  2012 Mar  3.016\n",
            "339  APU0000703112  2012    M04  2012 Apr  2.998\n",
            "340  APU0000703112  2012    M05  2012 May  2.995\n",
            "341  APU0000703112  2012    M06  2012 Jun  3.007\n",
            "342  APU0000703112  2012    M07  2012 Jul  3.085\n",
            "343  APU0000703112  2012    M08  2012 Aug  2.991\n",
            "344  APU0000703112  2012    M09  2012 Sep  3.024\n",
            "345  APU0000703112  2012    M11  2012 Nov  3.175\n",
            "346  APU0000703112  2012    M12  2012 Dec  3.080\n"
          ]
        }
      ]
    },
    {
      "cell_type": "code",
      "source": [
        "beefimpute = {\"Series ID\":\"APU0000703112\", \"Year\":2012, \"Period\":\"M10\", \"Label\":\"2012 Oct\", \"Value\":3.100}\n",
        "beef=beef.append(beefimpute, ignore_index=True)\n",
        "beef.drop_duplicates(subset=['Label', 'Value'], keep='first', inplace=True)\n",
        "beef = beef.sort_values(by=['Year','Period'], ignore_index=True)\n",
        "print(beef[beef[\"Year\"]==2012])"
      ],
      "metadata": {
        "collapsed": true,
        "id": "CsBTGcY1ZnQn",
        "colab": {
          "base_uri": "https://localhost:8080/"
        },
        "outputId": "5a31a460-5b3c-4837-8bcf-7f27b051309b"
      },
      "execution_count": null,
      "outputs": [
        {
          "output_type": "stream",
          "name": "stdout",
          "text": [
            "         Series ID  Year Period     Label  Value\n",
            "168  APU0000703112  2012    M01  2012 Jan  3.005\n",
            "169  APU0000703112  2012    M02  2012 Feb  2.947\n",
            "170  APU0000703112  2012    M03  2012 Mar  3.016\n",
            "171  APU0000703112  2012    M04  2012 Apr  2.998\n",
            "172  APU0000703112  2012    M05  2012 May  2.995\n",
            "173  APU0000703112  2012    M06  2012 Jun  3.007\n",
            "174  APU0000703112  2012    M07  2012 Jul  3.085\n",
            "175  APU0000703112  2012    M08  2012 Aug  2.991\n",
            "176  APU0000703112  2012    M09  2012 Sep  3.024\n",
            "177  APU0000703112  2012    M10  2012 Oct  3.100\n",
            "178  APU0000703112  2012    M11  2012 Nov  3.175\n",
            "179  APU0000703112  2012    M12  2012 Dec  3.080\n"
          ]
        },
        {
          "output_type": "stream",
          "name": "stderr",
          "text": [
            "<ipython-input-247-a1b422fd783c>:2: FutureWarning: The frame.append method is deprecated and will be removed from pandas in a future version. Use pandas.concat instead.\n",
            "  beef=beef.append(beefimpute, ignore_index=True)\n"
          ]
        }
      ]
    },
    {
      "cell_type": "code",
      "source": [
        "chicken[\"Year\"].value_counts()"
      ],
      "metadata": {
        "collapsed": true,
        "id": "mPmNh6DChly9",
        "colab": {
          "base_uri": "https://localhost:8080/"
        },
        "outputId": "79a61c56-87f7-4a7d-a061-25d23eed88cd"
      },
      "execution_count": null,
      "outputs": [
        {
          "output_type": "execute_result",
          "data": {
            "text/plain": [
              "1998    12\n",
              "1999    12\n",
              "2021    12\n",
              "2019    12\n",
              "2018    12\n",
              "2017    12\n",
              "2016    12\n",
              "2015    12\n",
              "2014    12\n",
              "2013    12\n",
              "2012    12\n",
              "2011    12\n",
              "2010    12\n",
              "2009    12\n",
              "2008    12\n",
              "2007    12\n",
              "2006    12\n",
              "2005    12\n",
              "2004    12\n",
              "2003    12\n",
              "2002    12\n",
              "2001    12\n",
              "2000    12\n",
              "2022    12\n",
              "2020    11\n",
              "Name: Year, dtype: int64"
            ]
          },
          "metadata": {},
          "execution_count": 248
        }
      ]
    },
    {
      "cell_type": "code",
      "source": [
        "print(chicken[chicken[\"Year\"]==2020])"
      ],
      "metadata": {
        "collapsed": true,
        "id": "p3BKDHvejqd1",
        "colab": {
          "base_uri": "https://localhost:8080/"
        },
        "outputId": "087aaa4d-3a69-4e4d-b705-8d2559aa44ec"
      },
      "execution_count": null,
      "outputs": [
        {
          "output_type": "stream",
          "name": "stdout",
          "text": [
            "         Series ID  Year Period     Label  Value\n",
            "480  APU0000706111  2020    M01  2020 Jan  1.409\n",
            "481  APU0000706111  2020    M02  2020 Feb  1.362\n",
            "482  APU0000706111  2020    M03  2020 Mar  1.400\n",
            "483  APU0000706111  2020    M04  2020 Apr  1.571\n",
            "484  APU0000706111  2020    M06  2020 Jun  1.747\n",
            "485  APU0000706111  2020    M07  2020 Jul  1.712\n",
            "486  APU0000706111  2020    M08  2020 Aug  1.609\n",
            "487  APU0000706111  2020    M09  2020 Sep  1.542\n",
            "488  APU0000706111  2020    M10  2020 Oct  1.580\n",
            "489  APU0000706111  2020    M11  2020 Nov  1.639\n",
            "490  APU0000706111  2020    M12  2020 Dec  1.621\n"
          ]
        }
      ]
    },
    {
      "cell_type": "code",
      "source": [
        "chickenimpute = {\"Series ID\":\"APU0000706111\", \"Year\":2020, \"Period\":\"M05\", \"Label\":\"2020 May\", \"Value\":1.659}\n",
        "chicken=chicken.append(chickenimpute, ignore_index=True)\n",
        "chicken.drop_duplicates(subset=['Label', 'Value'], keep='first', inplace=True)\n",
        "chicken = chicken.sort_values(by=['Year','Period'], ignore_index=True)\n",
        "print(chicken[chicken[\"Year\"]==2020])"
      ],
      "metadata": {
        "collapsed": true,
        "id": "OcfhyREkjxb4",
        "colab": {
          "base_uri": "https://localhost:8080/"
        },
        "outputId": "336a3b7c-b153-4b9b-9e48-ee252ff7a97c"
      },
      "execution_count": null,
      "outputs": [
        {
          "output_type": "stream",
          "name": "stdout",
          "text": [
            "         Series ID  Year Period     Label  Value\n",
            "264  APU0000706111  2020    M01  2020 Jan  1.409\n",
            "265  APU0000706111  2020    M02  2020 Feb  1.362\n",
            "266  APU0000706111  2020    M03  2020 Mar  1.400\n",
            "267  APU0000706111  2020    M04  2020 Apr  1.571\n",
            "268  APU0000706111  2020    M05  2020 May  1.659\n",
            "269  APU0000706111  2020    M06  2020 Jun  1.747\n",
            "270  APU0000706111  2020    M07  2020 Jul  1.712\n",
            "271  APU0000706111  2020    M08  2020 Aug  1.609\n",
            "272  APU0000706111  2020    M09  2020 Sep  1.542\n",
            "273  APU0000706111  2020    M10  2020 Oct  1.580\n",
            "274  APU0000706111  2020    M11  2020 Nov  1.639\n",
            "275  APU0000706111  2020    M12  2020 Dec  1.621\n"
          ]
        },
        {
          "output_type": "stream",
          "name": "stderr",
          "text": [
            "<ipython-input-250-83a34f1c583a>:2: FutureWarning: The frame.append method is deprecated and will be removed from pandas in a future version. Use pandas.concat instead.\n",
            "  chicken=chicken.append(chickenimpute, ignore_index=True)\n"
          ]
        }
      ]
    },
    {
      "cell_type": "code",
      "source": [
        "flour[\"Year\"].value_counts()"
      ],
      "metadata": {
        "collapsed": true,
        "id": "yg7TVkFtkwKh",
        "colab": {
          "base_uri": "https://localhost:8080/"
        },
        "outputId": "14ff2c7b-d689-445e-9af3-43d7a2ff1cd4"
      },
      "execution_count": null,
      "outputs": [
        {
          "output_type": "execute_result",
          "data": {
            "text/plain": [
              "1998    12\n",
              "1999    12\n",
              "2021    12\n",
              "2019    12\n",
              "2018    12\n",
              "2017    12\n",
              "2016    12\n",
              "2015    12\n",
              "2014    12\n",
              "2013    12\n",
              "2012    12\n",
              "2011    12\n",
              "2010    12\n",
              "2009    12\n",
              "2008    12\n",
              "2007    12\n",
              "2006    12\n",
              "2005    12\n",
              "2004    12\n",
              "2003    12\n",
              "2002    12\n",
              "2001    12\n",
              "2000    12\n",
              "2022    12\n",
              "2020    11\n",
              "Name: Year, dtype: int64"
            ]
          },
          "metadata": {},
          "execution_count": 251
        }
      ]
    },
    {
      "cell_type": "code",
      "source": [
        "print(flour[flour[\"Year\"]==2020])"
      ],
      "metadata": {
        "collapsed": true,
        "id": "6W5OreI7lBnP",
        "colab": {
          "base_uri": "https://localhost:8080/"
        },
        "outputId": "e8a957e2-f6c8-487f-99c9-41d9b010d338"
      },
      "execution_count": null,
      "outputs": [
        {
          "output_type": "stream",
          "name": "stdout",
          "text": [
            "         Series ID  Year Period     Label  Value\n",
            "480  APU0000701111  2020    M01  2020 Jan  0.438\n",
            "481  APU0000701111  2020    M02  2020 Feb  0.438\n",
            "482  APU0000701111  2020    M03  2020 Mar  0.442\n",
            "483  APU0000701111  2020    M05  2020 May  0.461\n",
            "484  APU0000701111  2020    M06  2020 Jun  0.468\n",
            "485  APU0000701111  2020    M07  2020 Jul  0.461\n",
            "486  APU0000701111  2020    M08  2020 Aug  0.459\n",
            "487  APU0000701111  2020    M09  2020 Sep  0.451\n",
            "488  APU0000701111  2020    M10  2020 Oct  0.452\n",
            "489  APU0000701111  2020    M11  2020 Nov  0.445\n",
            "490  APU0000701111  2020    M12  2020 Dec  0.450\n"
          ]
        }
      ]
    },
    {
      "cell_type": "code",
      "source": [
        "flourimpute = {\"Series ID\":\"APU0000701111\", \"Year\":2020, \"Period\":\"M04\", \"Label\":\"2020 Apr\", \"Value\":0.452}\n",
        "flour=flour.append(flourimpute, ignore_index=True)\n",
        "flour.drop_duplicates(subset=['Label', 'Value'], keep='first', inplace=True)\n",
        "flour = flour.sort_values(by=['Year', 'Period'], ignore_index=True)\n",
        "print(flour[flour[\"Year\"]==2020])"
      ],
      "metadata": {
        "collapsed": true,
        "id": "aW1mDFsHlIpY",
        "colab": {
          "base_uri": "https://localhost:8080/"
        },
        "outputId": "f6d1d3fc-ee3e-4213-bb08-6f76ca50cf2d"
      },
      "execution_count": null,
      "outputs": [
        {
          "output_type": "stream",
          "name": "stdout",
          "text": [
            "         Series ID  Year Period     Label  Value\n",
            "264  APU0000701111  2020    M01  2020 Jan  0.438\n",
            "265  APU0000701111  2020    M02  2020 Feb  0.438\n",
            "266  APU0000701111  2020    M03  2020 Mar  0.442\n",
            "267  APU0000701111  2020    M04  2020 Apr  0.452\n",
            "268  APU0000701111  2020    M05  2020 May  0.461\n",
            "269  APU0000701111  2020    M06  2020 Jun  0.468\n",
            "270  APU0000701111  2020    M07  2020 Jul  0.461\n",
            "271  APU0000701111  2020    M08  2020 Aug  0.459\n",
            "272  APU0000701111  2020    M09  2020 Sep  0.451\n",
            "273  APU0000701111  2020    M10  2020 Oct  0.452\n",
            "274  APU0000701111  2020    M11  2020 Nov  0.445\n",
            "275  APU0000701111  2020    M12  2020 Dec  0.450\n"
          ]
        },
        {
          "output_type": "stream",
          "name": "stderr",
          "text": [
            "<ipython-input-253-78c95aa320b6>:2: FutureWarning: The frame.append method is deprecated and will be removed from pandas in a future version. Use pandas.concat instead.\n",
            "  flour=flour.append(flourimpute, ignore_index=True)\n"
          ]
        }
      ]
    },
    {
      "cell_type": "code",
      "source": [
        "lettuce[\"Year\"].value_counts()"
      ],
      "metadata": {
        "collapsed": true,
        "id": "pAJ-nUczmTv4",
        "colab": {
          "base_uri": "https://localhost:8080/"
        },
        "outputId": "b8515b91-af97-40af-8814-1f37ff27d14e"
      },
      "execution_count": null,
      "outputs": [
        {
          "output_type": "execute_result",
          "data": {
            "text/plain": [
              "1998    12\n",
              "1999    12\n",
              "2019    12\n",
              "2018    12\n",
              "2017    12\n",
              "2016    12\n",
              "2015    12\n",
              "2014    12\n",
              "2012    12\n",
              "2011    12\n",
              "2010    12\n",
              "2009    12\n",
              "2008    12\n",
              "2007    12\n",
              "2006    12\n",
              "2005    12\n",
              "2004    12\n",
              "2003    12\n",
              "2002    12\n",
              "2001    12\n",
              "2000    12\n",
              "2013    11\n",
              "2020     2\n",
              "Name: Year, dtype: int64"
            ]
          },
          "metadata": {},
          "execution_count": 254
        }
      ]
    },
    {
      "cell_type": "code",
      "source": [
        "print(lettuce[lettuce[\"Year\"]==2013])"
      ],
      "metadata": {
        "collapsed": true,
        "id": "gfgnwickv7Ij",
        "colab": {
          "base_uri": "https://localhost:8080/"
        },
        "outputId": "e01a5234-d351-4714-e902-9b36eea3708e"
      },
      "execution_count": null,
      "outputs": [
        {
          "output_type": "stream",
          "name": "stdout",
          "text": [
            "         Series ID  Year Period     Label  Value\n",
            "394  APU0000712211  2013    M01  2013 Jan  1.002\n",
            "395  APU0000712211  2013    M02  2013 Feb  1.096\n",
            "396  APU0000712211  2013    M03  2013 Mar  1.195\n",
            "397  APU0000712211  2013    M04  2013 Apr  0.972\n",
            "398  APU0000712211  2013    M05  2013 May  0.924\n",
            "399  APU0000712211  2013    M06  2013 Jun  0.929\n",
            "400  APU0000712211  2013    M07  2013 Jul  0.930\n",
            "401  APU0000712211  2013    M08  2013 Aug  1.077\n",
            "402  APU0000712211  2013    M09  2013 Sep  0.980\n",
            "403  APU0000712211  2013    M11  2013 Nov  1.066\n",
            "404  APU0000712211  2013    M12  2013 Dec  0.990\n"
          ]
        }
      ]
    },
    {
      "cell_type": "code",
      "source": [
        "lettuceimpute = {\"Series ID\":\"APU0000712211\", \"Year\":2013, \"Period\":\"M10\", \"Label\":\"2013 Oct\", \"Value\":1.023}\n",
        "lettuce=lettuce.append(lettuceimpute, ignore_index=True)\n",
        "lettuce.drop_duplicates(subset=['Label', 'Value'], keep='first', inplace=True)\n",
        "lettuce = lettuce.sort_values(by=['Year', 'Period'], ignore_index=True)\n",
        "print(lettuce[lettuce[\"Year\"]==2013])"
      ],
      "metadata": {
        "collapsed": true,
        "id": "_j4thLbawEGk",
        "colab": {
          "base_uri": "https://localhost:8080/"
        },
        "outputId": "3123e3de-6e21-4f24-9923-a9e5501ef552"
      },
      "execution_count": null,
      "outputs": [
        {
          "output_type": "stream",
          "name": "stdout",
          "text": [
            "         Series ID  Year Period     Label  Value\n",
            "180  APU0000712211  2013    M01  2013 Jan  1.002\n",
            "181  APU0000712211  2013    M02  2013 Feb  1.096\n",
            "182  APU0000712211  2013    M03  2013 Mar  1.195\n",
            "183  APU0000712211  2013    M04  2013 Apr  0.972\n",
            "184  APU0000712211  2013    M05  2013 May  0.924\n",
            "185  APU0000712211  2013    M06  2013 Jun  0.929\n",
            "186  APU0000712211  2013    M07  2013 Jul  0.930\n",
            "187  APU0000712211  2013    M08  2013 Aug  1.077\n",
            "188  APU0000712211  2013    M09  2013 Sep  0.980\n",
            "189  APU0000712211  2013    M10  2013 Oct  1.023\n",
            "190  APU0000712211  2013    M11  2013 Nov  1.066\n",
            "191  APU0000712211  2013    M12  2013 Dec  0.990\n"
          ]
        },
        {
          "output_type": "stream",
          "name": "stderr",
          "text": [
            "<ipython-input-256-32fbf4701313>:2: FutureWarning: The frame.append method is deprecated and will be removed from pandas in a future version. Use pandas.concat instead.\n",
            "  lettuce=lettuce.append(lettuceimpute, ignore_index=True)\n"
          ]
        }
      ]
    },
    {
      "cell_type": "code",
      "source": [
        "potatoes[\"Year\"].value_counts()"
      ],
      "metadata": {
        "collapsed": true,
        "id": "pXLFUuOdwnLx",
        "colab": {
          "base_uri": "https://localhost:8080/"
        },
        "outputId": "4decb9d7-2400-48c5-bf8a-bbc598bbd502"
      },
      "execution_count": null,
      "outputs": [
        {
          "output_type": "execute_result",
          "data": {
            "text/plain": [
              "1998    12\n",
              "1999    12\n",
              "2021    12\n",
              "2019    12\n",
              "2018    12\n",
              "2017    12\n",
              "2016    12\n",
              "2015    12\n",
              "2014    12\n",
              "2013    12\n",
              "2012    12\n",
              "2011    12\n",
              "2010    12\n",
              "2009    12\n",
              "2008    12\n",
              "2007    12\n",
              "2006    12\n",
              "2005    12\n",
              "2004    12\n",
              "2003    12\n",
              "2002    12\n",
              "2001    12\n",
              "2000    12\n",
              "2022    12\n",
              "2020    10\n",
              "Name: Year, dtype: int64"
            ]
          },
          "metadata": {},
          "execution_count": 257
        }
      ]
    },
    {
      "cell_type": "code",
      "source": [
        "print(potatoes[potatoes[\"Year\"]==2020])"
      ],
      "metadata": {
        "collapsed": true,
        "id": "bFfEzhkyw7YG",
        "colab": {
          "base_uri": "https://localhost:8080/"
        },
        "outputId": "7539761a-58a3-43bc-9509-447a999912e0"
      },
      "execution_count": null,
      "outputs": [
        {
          "output_type": "stream",
          "name": "stdout",
          "text": [
            "         Series ID  Year Period     Label  Value\n",
            "404  APU0000712112  2020    M01  2020 Jan  0.802\n",
            "405  APU0000712112  2020    M02  2020 Feb  0.786\n",
            "406  APU0000712112  2020    M05  2020 May  0.855\n",
            "407  APU0000712112  2020    M06  2020 Jun  0.854\n",
            "408  APU0000712112  2020    M07  2020 Jul  0.854\n",
            "409  APU0000712112  2020    M08  2020 Aug  0.856\n",
            "410  APU0000712112  2020    M09  2020 Sep  0.798\n",
            "411  APU0000712112  2020    M10  2020 Oct  0.802\n",
            "412  APU0000712112  2020    M11  2020 Nov  0.756\n",
            "413  APU0000712112  2020    M12  2020 Dec  0.749\n"
          ]
        }
      ]
    },
    {
      "cell_type": "code",
      "source": [
        "potatoesimpute = {\"Series ID\":\"APU0000712112\", \"Year\":2020, \"Period\":\"M03\", \"Label\":\"2020 Mar\", \"Value\":0.809}\n",
        "potatoes=potatoes.append(potatoesimpute, ignore_index=True)\n",
        "potatoesimpute = {\"Series ID\":\"APU0000712112\", \"Year\":2020, \"Period\":\"M04\", \"Label\":\"2020 Apr\", \"Value\":0.832}\n",
        "potatoes=potatoes.append(potatoesimpute, ignore_index=True)\n",
        "potatoes.drop_duplicates(subset=['Label'], keep='first', inplace=True)\n",
        "potatoes = potatoes.sort_values(by=['Year', 'Period'], ignore_index=True)\n",
        "print(potatoes[potatoes[\"Year\"]==2020])\n",
        "print(potatoes[\"Year\"].value_counts())"
      ],
      "metadata": {
        "collapsed": true,
        "id": "FBMLbT3SxVS6",
        "colab": {
          "base_uri": "https://localhost:8080/"
        },
        "outputId": "885e1ae1-1ef2-4abe-c423-992e5d131a36"
      },
      "execution_count": null,
      "outputs": [
        {
          "output_type": "stream",
          "name": "stderr",
          "text": [
            "<ipython-input-259-a247908e4f2e>:2: FutureWarning: The frame.append method is deprecated and will be removed from pandas in a future version. Use pandas.concat instead.\n",
            "  potatoes=potatoes.append(potatoesimpute, ignore_index=True)\n",
            "<ipython-input-259-a247908e4f2e>:4: FutureWarning: The frame.append method is deprecated and will be removed from pandas in a future version. Use pandas.concat instead.\n",
            "  potatoes=potatoes.append(potatoesimpute, ignore_index=True)\n"
          ]
        },
        {
          "output_type": "stream",
          "name": "stdout",
          "text": [
            "         Series ID  Year Period     Label  Value\n",
            "264  APU0000712112  2020    M01  2020 Jan  0.802\n",
            "265  APU0000712112  2020    M02  2020 Feb  0.786\n",
            "266  APU0000712112  2020    M03  2020 Mar  0.809\n",
            "267  APU0000712112  2020    M04  2020 Apr  0.832\n",
            "268  APU0000712112  2020    M05  2020 May  0.855\n",
            "269  APU0000712112  2020    M06  2020 Jun  0.854\n",
            "270  APU0000712112  2020    M07  2020 Jul  0.854\n",
            "271  APU0000712112  2020    M08  2020 Aug  0.856\n",
            "272  APU0000712112  2020    M09  2020 Sep  0.798\n",
            "273  APU0000712112  2020    M10  2020 Oct  0.802\n",
            "274  APU0000712112  2020    M11  2020 Nov  0.756\n",
            "275  APU0000712112  2020    M12  2020 Dec  0.749\n",
            "1998    12\n",
            "2011    12\n",
            "2021    12\n",
            "2020    12\n",
            "2019    12\n",
            "2018    12\n",
            "2017    12\n",
            "2016    12\n",
            "2015    12\n",
            "2014    12\n",
            "2013    12\n",
            "2012    12\n",
            "2010    12\n",
            "1999    12\n",
            "2009    12\n",
            "2008    12\n",
            "2007    12\n",
            "2006    12\n",
            "2005    12\n",
            "2004    12\n",
            "2003    12\n",
            "2002    12\n",
            "2001    12\n",
            "2000    12\n",
            "2022    12\n",
            "Name: Year, dtype: int64\n"
          ]
        }
      ]
    },
    {
      "cell_type": "code",
      "source": [
        "print(strawberries[\"Year\"].value_counts())\n",
        "print(strawberries[\"Period\"].value_counts())"
      ],
      "metadata": {
        "id": "8xradLW5yuP5",
        "colab": {
          "base_uri": "https://localhost:8080/"
        },
        "outputId": "1339b739-3b1c-4e19-aea1-7c1210283766"
      },
      "execution_count": null,
      "outputs": [
        {
          "output_type": "stream",
          "name": "stdout",
          "text": [
            "2010    12\n",
            "2008    12\n",
            "2019    12\n",
            "2018    12\n",
            "2017    12\n",
            "2016    12\n",
            "2014    12\n",
            "2012    12\n",
            "2011    12\n",
            "2009    12\n",
            "2022    12\n",
            "2007    12\n",
            "2006    12\n",
            "2005    12\n",
            "2004    12\n",
            "2013    11\n",
            "2015    11\n",
            "2002    11\n",
            "2001    11\n",
            "2020    11\n",
            "2021    11\n",
            "1999    10\n",
            "2003    10\n",
            "2000    10\n",
            "1998    10\n",
            "Name: Year, dtype: int64\n",
            "M02    25\n",
            "M03    25\n",
            "M05    25\n",
            "M06    25\n",
            "M07    25\n",
            "M08    25\n",
            "M09    25\n",
            "M04    24\n",
            "M10    24\n",
            "M01    22\n",
            "M11    22\n",
            "M12    19\n",
            "Name: Period, dtype: int64\n"
          ]
        }
      ]
    },
    {
      "cell_type": "code",
      "source": [
        "print(strawberries[strawberries[\"Year\"]==2013])"
      ],
      "metadata": {
        "id": "FyH1pr7Zy_ex",
        "colab": {
          "base_uri": "https://localhost:8080/"
        },
        "outputId": "b45089c3-0aea-4116-ee21-615c08c2f7ac"
      },
      "execution_count": null,
      "outputs": [
        {
          "output_type": "stream",
          "name": "stdout",
          "text": [
            "         Series ID  Year Period     Label  Value\n",
            "295  APU0000711415  2013    M01  2013 Jan  2.152\n",
            "296  APU0000711415  2013    M02  2013 Feb  1.895\n",
            "297  APU0000711415  2013    M03  2013 Mar  1.991\n",
            "298  APU0000711415  2013    M04  2013 Apr  1.784\n",
            "299  APU0000711415  2013    M05  2013 May  1.647\n",
            "300  APU0000711415  2013    M06  2013 Jun  1.686\n",
            "301  APU0000711415  2013    M07  2013 Jul  1.691\n",
            "302  APU0000711415  2013    M08  2013 Aug  1.917\n",
            "303  APU0000711415  2013    M09  2013 Sep  2.132\n",
            "304  APU0000711415  2013    M11  2013 Nov  2.500\n",
            "305  APU0000711415  2013    M12  2013 Dec  2.865\n"
          ]
        }
      ]
    },
    {
      "cell_type": "code",
      "source": [
        "strawberriesimpute = {\"Series ID\":\"APU0000711415\", \"Year\":2013, \"Period\":\"M10\", \"Label\":\"2013 Oct\", \"Value\":2.316}\n",
        "strawberries=strawberries.append(strawberriesimpute, ignore_index=True)\n",
        "strawberries.drop_duplicates(subset=['Label'], keep='first', inplace=True)\n",
        "strawberries = strawberries.sort_values(by=['Year', 'Period'], ignore_index=True)\n",
        "print(strawberries[strawberries[\"Year\"]==2013])\n",
        "print(strawberries[strawberries[\"Year\"]==2015])"
      ],
      "metadata": {
        "id": "deGI4SLUzJWx",
        "colab": {
          "base_uri": "https://localhost:8080/"
        },
        "outputId": "29e79af9-01f9-4a30-c01d-bde45c0b53e1"
      },
      "execution_count": null,
      "outputs": [
        {
          "output_type": "stream",
          "name": "stderr",
          "text": [
            "<ipython-input-262-a2f628ccf14f>:2: FutureWarning: The frame.append method is deprecated and will be removed from pandas in a future version. Use pandas.concat instead.\n",
            "  strawberries=strawberries.append(strawberriesimpute, ignore_index=True)\n"
          ]
        },
        {
          "output_type": "stream",
          "name": "stdout",
          "text": [
            "         Series ID  Year Period     Label  Value\n",
            "170  APU0000711415  2013    M01  2013 Jan  2.152\n",
            "171  APU0000711415  2013    M02  2013 Feb  1.895\n",
            "172  APU0000711415  2013    M03  2013 Mar  1.991\n",
            "173  APU0000711415  2013    M04  2013 Apr  1.784\n",
            "174  APU0000711415  2013    M05  2013 May  1.647\n",
            "175  APU0000711415  2013    M06  2013 Jun  1.686\n",
            "176  APU0000711415  2013    M07  2013 Jul  1.691\n",
            "177  APU0000711415  2013    M08  2013 Aug  1.917\n",
            "178  APU0000711415  2013    M09  2013 Sep  2.132\n",
            "179  APU0000711415  2013    M10  2013 Oct  2.316\n",
            "180  APU0000711415  2013    M11  2013 Nov  2.500\n",
            "181  APU0000711415  2013    M12  2013 Dec  2.865\n",
            "         Series ID  Year Period     Label  Value\n",
            "194  APU0000711415  2015    M01  2015 Jan  2.454\n",
            "195  APU0000711415  2015    M02  2015 Feb  2.090\n",
            "196  APU0000711415  2015    M03  2015 Mar  1.664\n",
            "197  APU0000711415  2015    M04  2015 Apr  1.852\n",
            "198  APU0000711415  2015    M05  2015 May  2.087\n",
            "199  APU0000711415  2015    M06  2015 Jun  1.735\n",
            "200  APU0000711415  2015    M07  2015 Jul  1.798\n",
            "201  APU0000711415  2015    M08  2015 Aug  2.283\n",
            "202  APU0000711415  2015    M09  2015 Sep  2.385\n",
            "203  APU0000711415  2015    M10  2015 Oct  2.523\n",
            "204  APU0000711415  2015    M12  2015 Dec  3.502\n"
          ]
        }
      ]
    },
    {
      "cell_type": "code",
      "source": [
        "strawberriesimpute = {\"Series ID\":\"APU0000711415\", \"Year\":2015, \"Period\":\"M11\", \"Label\":\"2015 Nov\", \"Value\":3.013}\n",
        "strawberries=strawberries.append(strawberriesimpute, ignore_index=True)\n",
        "strawberries.drop_duplicates(subset=['Label'], keep='first', inplace=True)\n",
        "strawberries = strawberries.sort_values(by=['Year', 'Period'], ignore_index=True)\n",
        "print(strawberries[strawberries[\"Year\"]==2015])\n",
        "print(strawberries[strawberries[\"Year\"]==2002])\n",
        "print(strawberries[strawberries[\"Year\"]==2003])"
      ],
      "metadata": {
        "id": "bRfW3k1L0EGX",
        "colab": {
          "base_uri": "https://localhost:8080/"
        },
        "outputId": "06ff225a-6ba7-4db8-d4a1-1475dba54636"
      },
      "execution_count": null,
      "outputs": [
        {
          "output_type": "stream",
          "name": "stderr",
          "text": [
            "<ipython-input-263-695758636fa4>:2: FutureWarning: The frame.append method is deprecated and will be removed from pandas in a future version. Use pandas.concat instead.\n",
            "  strawberries=strawberries.append(strawberriesimpute, ignore_index=True)\n"
          ]
        },
        {
          "output_type": "stream",
          "name": "stdout",
          "text": [
            "         Series ID  Year Period     Label  Value\n",
            "194  APU0000711415  2015    M01  2015 Jan  2.454\n",
            "195  APU0000711415  2015    M02  2015 Feb  2.090\n",
            "196  APU0000711415  2015    M03  2015 Mar  1.664\n",
            "197  APU0000711415  2015    M04  2015 Apr  1.852\n",
            "198  APU0000711415  2015    M05  2015 May  2.087\n",
            "199  APU0000711415  2015    M06  2015 Jun  1.735\n",
            "200  APU0000711415  2015    M07  2015 Jul  1.798\n",
            "201  APU0000711415  2015    M08  2015 Aug  2.283\n",
            "202  APU0000711415  2015    M09  2015 Sep  2.385\n",
            "203  APU0000711415  2015    M10  2015 Oct  2.523\n",
            "204  APU0000711415  2015    M11  2015 Nov  3.013\n",
            "205  APU0000711415  2015    M12  2015 Dec  3.502\n",
            "        Series ID  Year Period     Label  Value\n",
            "41  APU0000711415  2002    M01  2002 Jan  2.498\n",
            "42  APU0000711415  2002    M02  2002 Feb  2.137\n",
            "43  APU0000711415  2002    M03  2002 Mar  1.941\n",
            "44  APU0000711415  2002    M04  2002 Apr  1.551\n",
            "45  APU0000711415  2002    M05  2002 May  1.527\n",
            "46  APU0000711415  2002    M06  2002 Jun  1.552\n",
            "47  APU0000711415  2002    M07  2002 Jul  1.545\n",
            "48  APU0000711415  2002    M08  2002 Aug  1.695\n",
            "49  APU0000711415  2002    M09  2002 Sep  1.873\n",
            "50  APU0000711415  2002    M10  2002 Oct  1.884\n",
            "51  APU0000711415  2002    M11  2002 Nov  2.224\n",
            "        Series ID  Year Period     Label  Value\n",
            "52  APU0000711415  2003    M02  2003 Feb  2.153\n",
            "53  APU0000711415  2003    M03  2003 Mar  1.871\n",
            "54  APU0000711415  2003    M04  2003 Apr  1.762\n",
            "55  APU0000711415  2003    M05  2003 May  1.678\n",
            "56  APU0000711415  2003    M06  2003 Jun  1.568\n",
            "57  APU0000711415  2003    M07  2003 Jul  1.776\n",
            "58  APU0000711415  2003    M08  2003 Aug  1.840\n",
            "59  APU0000711415  2003    M09  2003 Sep  1.986\n",
            "60  APU0000711415  2003    M10  2003 Oct  2.246\n",
            "61  APU0000711415  2003    M11  2003 Nov  2.410\n"
          ]
        }
      ]
    },
    {
      "cell_type": "code",
      "source": [
        "strawberriesimpute = {\"Series ID\":\"APU0000711415\", \"Year\":2002, \"Period\":\"M12\", \"Label\":\"2002 Dec\", \"Value\":2.200}\n",
        "strawberries=strawberries.append(strawberriesimpute, ignore_index=True)\n",
        "strawberriesimpute = {\"Series ID\":\"APU0000711415\", \"Year\":2003, \"Period\":\"M01\", \"Label\":\"2003 Jan\", \"Value\":2.176}\n",
        "strawberries=strawberries.append(strawberriesimpute, ignore_index=True)\n",
        "strawberries.drop_duplicates(subset=['Label'], keep='first', inplace=True)\n",
        "strawberries = strawberries.sort_values(by=['Year', 'Period'], ignore_index=True)\n",
        "print(strawberries[strawberries[\"Year\"]==2003])\n",
        "print(strawberries[strawberries[\"Year\"]==2004])"
      ],
      "metadata": {
        "id": "CexyuOc10X6f",
        "colab": {
          "base_uri": "https://localhost:8080/"
        },
        "outputId": "9e1e0410-e4e4-4e62-fe97-cdbc25b5547a"
      },
      "execution_count": null,
      "outputs": [
        {
          "output_type": "stream",
          "name": "stdout",
          "text": [
            "        Series ID  Year Period     Label  Value\n",
            "53  APU0000711415  2003    M01  2003 Jan  2.176\n",
            "54  APU0000711415  2003    M02  2003 Feb  2.153\n",
            "55  APU0000711415  2003    M03  2003 Mar  1.871\n",
            "56  APU0000711415  2003    M04  2003 Apr  1.762\n",
            "57  APU0000711415  2003    M05  2003 May  1.678\n",
            "58  APU0000711415  2003    M06  2003 Jun  1.568\n",
            "59  APU0000711415  2003    M07  2003 Jul  1.776\n",
            "60  APU0000711415  2003    M08  2003 Aug  1.840\n",
            "61  APU0000711415  2003    M09  2003 Sep  1.986\n",
            "62  APU0000711415  2003    M10  2003 Oct  2.246\n",
            "63  APU0000711415  2003    M11  2003 Nov  2.410\n",
            "        Series ID  Year Period     Label  Value\n",
            "64  APU0000711415  2004    M01  2004 Jan  2.481\n",
            "65  APU0000711415  2004    M02  2004 Feb  2.332\n",
            "66  APU0000711415  2004    M03  2004 Mar  2.124\n",
            "67  APU0000711415  2004    M04  2004 Apr  1.661\n",
            "68  APU0000711415  2004    M05  2004 May  1.672\n",
            "69  APU0000711415  2004    M06  2004 Jun  1.847\n",
            "70  APU0000711415  2004    M07  2004 Jul  1.629\n",
            "71  APU0000711415  2004    M08  2004 Aug  1.817\n",
            "72  APU0000711415  2004    M09  2004 Sep  1.843\n",
            "73  APU0000711415  2004    M10  2004 Oct  2.600\n",
            "74  APU0000711415  2004    M11  2004 Nov  3.185\n",
            "75  APU0000711415  2004    M12  2004 Dec  3.602\n"
          ]
        },
        {
          "output_type": "stream",
          "name": "stderr",
          "text": [
            "<ipython-input-264-32540941573c>:2: FutureWarning: The frame.append method is deprecated and will be removed from pandas in a future version. Use pandas.concat instead.\n",
            "  strawberries=strawberries.append(strawberriesimpute, ignore_index=True)\n",
            "<ipython-input-264-32540941573c>:4: FutureWarning: The frame.append method is deprecated and will be removed from pandas in a future version. Use pandas.concat instead.\n",
            "  strawberries=strawberries.append(strawberriesimpute, ignore_index=True)\n"
          ]
        }
      ]
    },
    {
      "cell_type": "code",
      "source": [
        "strawberriesimpute = {\"Series ID\":\"APU0000711415\", \"Year\":2003, \"Period\":\"M12\", \"Label\":\"2003 Dec\", \"Value\":2.445}\n",
        "strawberries=strawberries.append(strawberriesimpute, ignore_index=True)\n",
        "strawberries.drop_duplicates(subset=['Label'], keep='first', inplace=True)\n",
        "strawberries = strawberries.sort_values(by=['Year', 'Period'], ignore_index=True)\n",
        "print(strawberries[\"Year\"].value_counts())"
      ],
      "metadata": {
        "id": "DizyQRxl69hX",
        "colab": {
          "base_uri": "https://localhost:8080/"
        },
        "outputId": "3e6f3c56-fdb8-477c-bd4b-e3b95fb56a12"
      },
      "execution_count": null,
      "outputs": [
        {
          "output_type": "stream",
          "name": "stdout",
          "text": [
            "2010    12\n",
            "2009    12\n",
            "2019    12\n",
            "2018    12\n",
            "2017    12\n",
            "2016    12\n",
            "2015    12\n",
            "2014    12\n",
            "2013    12\n",
            "2012    12\n",
            "2011    12\n",
            "2022    12\n",
            "2008    12\n",
            "2007    12\n",
            "2006    12\n",
            "2005    12\n",
            "2004    12\n",
            "2003    12\n",
            "2002    12\n",
            "2001    11\n",
            "2020    11\n",
            "2021    11\n",
            "1999    10\n",
            "2000    10\n",
            "1998    10\n",
            "Name: Year, dtype: int64\n"
          ]
        },
        {
          "output_type": "stream",
          "name": "stderr",
          "text": [
            "<ipython-input-265-b0a5cb7ba169>:2: FutureWarning: The frame.append method is deprecated and will be removed from pandas in a future version. Use pandas.concat instead.\n",
            "  strawberries=strawberries.append(strawberriesimpute, ignore_index=True)\n"
          ]
        }
      ]
    },
    {
      "cell_type": "code",
      "source": [
        "print(strawberries[strawberries[\"Year\"]==1998])\n",
        "print(strawberries[strawberries[\"Year\"]==1999])\n",
        "#print(strawberries[strawberries[\"Year\"]==2000])\n",
        "#print(strawberries[strawberries[\"Year\"]==2001])\n",
        "#print(strawberries[strawberries[\"Year\"]==2002])"
      ],
      "metadata": {
        "id": "o8hlmy8g7ZNq",
        "colab": {
          "base_uri": "https://localhost:8080/"
        },
        "outputId": "d5c45a40-b41a-4950-c4f9-d509df0c8ebc"
      },
      "execution_count": null,
      "outputs": [
        {
          "output_type": "stream",
          "name": "stdout",
          "text": [
            "       Series ID  Year Period     Label  Value\n",
            "0  APU0000711415  1998    M01  1998 Jan  2.135\n",
            "1  APU0000711415  1998    M02  1998 Feb  2.080\n",
            "2  APU0000711415  1998    M03  1998 Mar  1.751\n",
            "3  APU0000711415  1998    M04  1998 Apr  1.613\n",
            "4  APU0000711415  1998    M05  1998 May  1.386\n",
            "5  APU0000711415  1998    M06  1998 Jun  1.413\n",
            "6  APU0000711415  1998    M07  1998 Jul  1.346\n",
            "7  APU0000711415  1998    M08  1998 Aug  1.454\n",
            "8  APU0000711415  1998    M09  1998 Sep  1.469\n",
            "9  APU0000711415  1998    M10  1998 Oct  1.779\n",
            "        Series ID  Year Period     Label  Value\n",
            "10  APU0000711415  1999    M02  1999 Feb  2.102\n",
            "11  APU0000711415  1999    M03  1999 Mar  1.960\n",
            "12  APU0000711415  1999    M04  1999 Apr  1.751\n",
            "13  APU0000711415  1999    M05  1999 May  1.419\n",
            "14  APU0000711415  1999    M06  1999 Jun  1.490\n",
            "15  APU0000711415  1999    M07  1999 Jul  1.375\n",
            "16  APU0000711415  1999    M08  1999 Aug  1.557\n",
            "17  APU0000711415  1999    M09  1999 Sep  1.679\n",
            "18  APU0000711415  1999    M10  1999 Oct  1.664\n",
            "19  APU0000711415  1999    M11  1999 Nov  1.948\n"
          ]
        }
      ]
    },
    {
      "cell_type": "code",
      "source": [
        "strawberriesimpute = {\"Series ID\":\"APU0000711415\", \"Year\":1998, \"Period\":\"M11\", \"Label\":\"1998 Nov\", \"Value\":1.860}\n",
        "strawberries=strawberries.append(strawberriesimpute, ignore_index=True)\n",
        "strawberriesimpute = {\"Series ID\":\"APU0000711415\", \"Year\":1998, \"Period\":\"M12\", \"Label\":\"1998 Dec\", \"Value\":1.941}\n",
        "strawberries=strawberries.append(strawberriesimpute, ignore_index=True)\n",
        "strawberriesimpute = {\"Series ID\":\"APU0000711415\", \"Year\":1999, \"Period\":\"M01\", \"Label\":\"1999 Jan\", \"Value\":2.022}\n",
        "strawberries=strawberries.append(strawberriesimpute, ignore_index=True)\n",
        "strawberries.drop_duplicates(subset=['Label'], keep='first', inplace=True)\n",
        "strawberries = strawberries.sort_values(by=['Year', 'Period'], ignore_index=True)\n",
        "print(strawberries[\"Year\"].value_counts())\n",
        "print(strawberries[strawberries[\"Year\"]==1999])\n",
        "print(strawberries[strawberries[\"Year\"]==2000])\n",
        "print(strawberries[strawberries[\"Year\"]==2001])\n",
        "#print(strawberries[strawberries[\"Year\"]==2002])"
      ],
      "metadata": {
        "id": "ecD1mMB-pOOM",
        "colab": {
          "base_uri": "https://localhost:8080/"
        },
        "outputId": "2019795e-7d0b-4021-ac6b-6a97e908c394"
      },
      "execution_count": null,
      "outputs": [
        {
          "output_type": "stream",
          "name": "stderr",
          "text": [
            "<ipython-input-267-bd5e50687ef1>:2: FutureWarning: The frame.append method is deprecated and will be removed from pandas in a future version. Use pandas.concat instead.\n",
            "  strawberries=strawberries.append(strawberriesimpute, ignore_index=True)\n",
            "<ipython-input-267-bd5e50687ef1>:4: FutureWarning: The frame.append method is deprecated and will be removed from pandas in a future version. Use pandas.concat instead.\n",
            "  strawberries=strawberries.append(strawberriesimpute, ignore_index=True)\n",
            "<ipython-input-267-bd5e50687ef1>:6: FutureWarning: The frame.append method is deprecated and will be removed from pandas in a future version. Use pandas.concat instead.\n",
            "  strawberries=strawberries.append(strawberriesimpute, ignore_index=True)\n"
          ]
        },
        {
          "output_type": "stream",
          "name": "stdout",
          "text": [
            "1998    12\n",
            "2009    12\n",
            "2019    12\n",
            "2018    12\n",
            "2017    12\n",
            "2016    12\n",
            "2015    12\n",
            "2014    12\n",
            "2013    12\n",
            "2012    12\n",
            "2011    12\n",
            "2010    12\n",
            "2008    12\n",
            "2007    12\n",
            "2006    12\n",
            "2005    12\n",
            "2004    12\n",
            "2003    12\n",
            "2002    12\n",
            "2022    12\n",
            "1999    11\n",
            "2001    11\n",
            "2020    11\n",
            "2021    11\n",
            "2000    10\n",
            "Name: Year, dtype: int64\n",
            "        Series ID  Year Period     Label  Value\n",
            "12  APU0000711415  1999    M01  1999 Jan  2.022\n",
            "13  APU0000711415  1999    M02  1999 Feb  2.102\n",
            "14  APU0000711415  1999    M03  1999 Mar  1.960\n",
            "15  APU0000711415  1999    M04  1999 Apr  1.751\n",
            "16  APU0000711415  1999    M05  1999 May  1.419\n",
            "17  APU0000711415  1999    M06  1999 Jun  1.490\n",
            "18  APU0000711415  1999    M07  1999 Jul  1.375\n",
            "19  APU0000711415  1999    M08  1999 Aug  1.557\n",
            "20  APU0000711415  1999    M09  1999 Sep  1.679\n",
            "21  APU0000711415  1999    M10  1999 Oct  1.664\n",
            "22  APU0000711415  1999    M11  1999 Nov  1.948\n",
            "        Series ID  Year Period     Label  Value\n",
            "23  APU0000711415  2000    M01  2000 Jan  2.167\n",
            "24  APU0000711415  2000    M02  2000 Feb  1.935\n",
            "25  APU0000711415  2000    M03  2000 Mar  1.825\n",
            "26  APU0000711415  2000    M04  2000 Apr  1.450\n",
            "27  APU0000711415  2000    M05  2000 May  1.218\n",
            "28  APU0000711415  2000    M06  2000 Jun  1.187\n",
            "29  APU0000711415  2000    M07  2000 Jul  1.246\n",
            "30  APU0000711415  2000    M08  2000 Aug  1.263\n",
            "31  APU0000711415  2000    M09  2000 Sep  1.416\n",
            "32  APU0000711415  2000    M10  2000 Oct  1.619\n",
            "        Series ID  Year Period     Label  Value\n",
            "33  APU0000711415  2001    M02  2001 Feb  2.140\n",
            "34  APU0000711415  2001    M03  2001 Mar  2.010\n",
            "35  APU0000711415  2001    M04  2001 Apr  1.737\n",
            "36  APU0000711415  2001    M05  2001 May  1.482\n",
            "37  APU0000711415  2001    M06  2001 Jun  1.465\n",
            "38  APU0000711415  2001    M07  2001 Jul  1.486\n",
            "39  APU0000711415  2001    M08  2001 Aug  1.628\n",
            "40  APU0000711415  2001    M09  2001 Sep  1.916\n",
            "41  APU0000711415  2001    M10  2001 Oct  1.996\n",
            "42  APU0000711415  2001    M11  2001 Nov  2.137\n",
            "43  APU0000711415  2001    M12  2001 Dec  2.526\n"
          ]
        }
      ]
    },
    {
      "cell_type": "code",
      "source": [
        "strawberriesimpute = {\"Series ID\":\"APU0000711415\", \"Year\":1999, \"Period\":\"M12\", \"Label\":\"1999 Dec\", \"Value\":2.058}\n",
        "strawberries=strawberries.append(strawberriesimpute, ignore_index=True)\n",
        "strawberriesimpute = {\"Series ID\":\"APU0000711415\", \"Year\":2000, \"Period\":\"M11\", \"Label\":\"2000 Nov\", \"Value\":1.749}\n",
        "strawberries=strawberries.append(strawberriesimpute, ignore_index=True)\n",
        "strawberriesimpute = {\"Series ID\":\"APU0000711415\", \"Year\":2000, \"Period\":\"M12\", \"Label\":\"2000 Dec\", \"Value\":1.879}\n",
        "strawberries=strawberries.append(strawberriesimpute, ignore_index=True)\n",
        "strawberriesimpute = {\"Series ID\":\"APU0000711415\", \"Year\":2001, \"Period\":\"M01\", \"Label\":\"2001 Jan\", \"Value\":2.009}\n",
        "strawberries=strawberries.append(strawberriesimpute, ignore_index=True)\n",
        "strawberries.drop_duplicates(subset=['Label'], keep='first', inplace=True)\n",
        "strawberries = strawberries.sort_values(by=['Year', 'Period'], ignore_index=True)\n",
        "print(strawberries[\"Year\"].value_counts())\n",
        "print(strawberries[strawberries[\"Year\"]==1999])\n",
        "print(strawberries[strawberries[\"Year\"]==2000])\n",
        "print(strawberries[strawberries[\"Year\"]==2001])\n",
        "#print(strawberries[strawberries[\"Year\"]==2002])"
      ],
      "metadata": {
        "id": "Qgtk9NvVtqmb",
        "colab": {
          "base_uri": "https://localhost:8080/"
        },
        "outputId": "71d623ef-2097-4d04-b2ca-6376a60fb51c"
      },
      "execution_count": null,
      "outputs": [
        {
          "output_type": "stream",
          "name": "stdout",
          "text": [
            "1998    12\n",
            "1999    12\n",
            "2019    12\n",
            "2018    12\n",
            "2017    12\n",
            "2016    12\n",
            "2015    12\n",
            "2014    12\n",
            "2013    12\n",
            "2012    12\n",
            "2011    12\n",
            "2010    12\n",
            "2009    12\n",
            "2008    12\n",
            "2007    12\n",
            "2006    12\n",
            "2005    12\n",
            "2004    12\n",
            "2003    12\n",
            "2002    12\n",
            "2001    12\n",
            "2000    12\n",
            "2022    12\n",
            "2020    11\n",
            "2021    11\n",
            "Name: Year, dtype: int64\n",
            "        Series ID  Year Period     Label  Value\n",
            "12  APU0000711415  1999    M01  1999 Jan  2.022\n",
            "13  APU0000711415  1999    M02  1999 Feb  2.102\n",
            "14  APU0000711415  1999    M03  1999 Mar  1.960\n",
            "15  APU0000711415  1999    M04  1999 Apr  1.751\n",
            "16  APU0000711415  1999    M05  1999 May  1.419\n",
            "17  APU0000711415  1999    M06  1999 Jun  1.490\n",
            "18  APU0000711415  1999    M07  1999 Jul  1.375\n",
            "19  APU0000711415  1999    M08  1999 Aug  1.557\n",
            "20  APU0000711415  1999    M09  1999 Sep  1.679\n",
            "21  APU0000711415  1999    M10  1999 Oct  1.664\n",
            "22  APU0000711415  1999    M11  1999 Nov  1.948\n",
            "23  APU0000711415  1999    M12  1999 Dec  2.058\n",
            "        Series ID  Year Period     Label  Value\n",
            "24  APU0000711415  2000    M01  2000 Jan  2.167\n",
            "25  APU0000711415  2000    M02  2000 Feb  1.935\n",
            "26  APU0000711415  2000    M03  2000 Mar  1.825\n",
            "27  APU0000711415  2000    M04  2000 Apr  1.450\n",
            "28  APU0000711415  2000    M05  2000 May  1.218\n",
            "29  APU0000711415  2000    M06  2000 Jun  1.187\n",
            "30  APU0000711415  2000    M07  2000 Jul  1.246\n",
            "31  APU0000711415  2000    M08  2000 Aug  1.263\n",
            "32  APU0000711415  2000    M09  2000 Sep  1.416\n",
            "33  APU0000711415  2000    M10  2000 Oct  1.619\n",
            "34  APU0000711415  2000    M11  2000 Nov  1.749\n",
            "35  APU0000711415  2000    M12  2000 Dec  1.879\n",
            "        Series ID  Year Period     Label  Value\n",
            "36  APU0000711415  2001    M01  2001 Jan  2.009\n",
            "37  APU0000711415  2001    M02  2001 Feb  2.140\n",
            "38  APU0000711415  2001    M03  2001 Mar  2.010\n",
            "39  APU0000711415  2001    M04  2001 Apr  1.737\n",
            "40  APU0000711415  2001    M05  2001 May  1.482\n",
            "41  APU0000711415  2001    M06  2001 Jun  1.465\n",
            "42  APU0000711415  2001    M07  2001 Jul  1.486\n",
            "43  APU0000711415  2001    M08  2001 Aug  1.628\n",
            "44  APU0000711415  2001    M09  2001 Sep  1.916\n",
            "45  APU0000711415  2001    M10  2001 Oct  1.996\n",
            "46  APU0000711415  2001    M11  2001 Nov  2.137\n",
            "47  APU0000711415  2001    M12  2001 Dec  2.526\n"
          ]
        },
        {
          "output_type": "stream",
          "name": "stderr",
          "text": [
            "<ipython-input-268-fa01d5c39d44>:2: FutureWarning: The frame.append method is deprecated and will be removed from pandas in a future version. Use pandas.concat instead.\n",
            "  strawberries=strawberries.append(strawberriesimpute, ignore_index=True)\n",
            "<ipython-input-268-fa01d5c39d44>:4: FutureWarning: The frame.append method is deprecated and will be removed from pandas in a future version. Use pandas.concat instead.\n",
            "  strawberries=strawberries.append(strawberriesimpute, ignore_index=True)\n",
            "<ipython-input-268-fa01d5c39d44>:6: FutureWarning: The frame.append method is deprecated and will be removed from pandas in a future version. Use pandas.concat instead.\n",
            "  strawberries=strawberries.append(strawberriesimpute, ignore_index=True)\n",
            "<ipython-input-268-fa01d5c39d44>:8: FutureWarning: The frame.append method is deprecated and will be removed from pandas in a future version. Use pandas.concat instead.\n",
            "  strawberries=strawberries.append(strawberriesimpute, ignore_index=True)\n"
          ]
        }
      ]
    },
    {
      "cell_type": "code",
      "source": [
        "print(strawberries[strawberries[\"Year\"]==2020])\n",
        "print(strawberries[strawberries[\"Year\"]==2021])\n",
        "print(strawberries[strawberries[\"Year\"]==2022])"
      ],
      "metadata": {
        "id": "JCjQ2iYqvsBN",
        "colab": {
          "base_uri": "https://localhost:8080/"
        },
        "outputId": "aa5546e4-7369-4dd1-cdeb-d8037dcd5570"
      },
      "execution_count": null,
      "outputs": [
        {
          "output_type": "stream",
          "name": "stdout",
          "text": [
            "         Series ID  Year Period     Label  Value\n",
            "264  APU0000711415  2020    M01  2020 Jan  2.884\n",
            "265  APU0000711415  2020    M02  2020 Feb  2.558\n",
            "266  APU0000711415  2020    M03  2020 Mar  2.367\n",
            "267  APU0000711415  2020    M05  2020 May  2.174\n",
            "268  APU0000711415  2020    M06  2020 Jun  2.020\n",
            "269  APU0000711415  2020    M07  2020 Jul  2.020\n",
            "270  APU0000711415  2020    M08  2020 Aug  2.214\n",
            "271  APU0000711415  2020    M09  2020 Sep  2.234\n",
            "272  APU0000711415  2020    M10  2020 Oct  2.745\n",
            "273  APU0000711415  2020    M11  2020 Nov  2.934\n",
            "274  APU0000711415  2020    M12  2020 Dec  3.290\n",
            "         Series ID  Year Period     Label  Value\n",
            "275  APU0000711415  2021    M01  2021 Jan  3.044\n",
            "276  APU0000711415  2021    M02  2021 Feb  2.893\n",
            "277  APU0000711415  2021    M03  2021 Mar  2.700\n",
            "278  APU0000711415  2021    M04  2021 Apr  2.803\n",
            "279  APU0000711415  2021    M05  2021 May  2.648\n",
            "280  APU0000711415  2021    M06  2021 Jun  2.318\n",
            "281  APU0000711415  2021    M07  2021 Jul  2.256\n",
            "282  APU0000711415  2021    M08  2021 Aug  2.434\n",
            "283  APU0000711415  2021    M09  2021 Sep  2.454\n",
            "284  APU0000711415  2021    M10  2021 Oct  2.687\n",
            "285  APU0000711415  2021    M11  2021 Nov  3.079\n",
            "         Series ID  Year Period     Label  Value\n",
            "286  APU0000711415  2022    M01  2022 Jan  3.106\n",
            "287  APU0000711415  2022    M02  2022 Feb  3.045\n",
            "288  APU0000711415  2022    M03  2022 Mar  2.711\n",
            "289  APU0000711415  2022    M04  2022 Apr  2.777\n",
            "290  APU0000711415  2022    M05  2022 May  2.438\n",
            "291  APU0000711415  2022    M06  2022 Jun  2.317\n",
            "292  APU0000711415  2022    M07  2022 Jul  2.208\n",
            "293  APU0000711415  2022    M08  2022 Aug  2.558\n",
            "294  APU0000711415  2022    M09  2022 Sep  2.782\n",
            "295  APU0000711415  2022    M10  2022 Oct  3.108\n",
            "296  APU0000711415  2022    M11  2022 Nov  3.631\n",
            "297  APU0000711415  2022    M12  2022 Dec  3.856\n"
          ]
        }
      ]
    },
    {
      "cell_type": "code",
      "source": [
        "strawberriesimpute = {\"Series ID\":\"APU0000711415\", \"Year\":2020, \"Period\":\"M04\", \"Label\":\"2020 Apr\", \"Value\":2.271}\n",
        "strawberries=strawberries.append(strawberriesimpute, ignore_index=True)\n",
        "strawberriesimpute = {\"Series ID\":\"APU0000711415\", \"Year\":2021, \"Period\":\"M12\", \"Label\":\"2021 Dec\", \"Value\":3.093}\n",
        "strawberries=strawberries.append(strawberriesimpute, ignore_index=True)\n",
        "strawberries.drop_duplicates(subset=['Label'], keep='first', inplace=True)\n",
        "strawberries = strawberries.sort_values(by=['Year', 'Period'], ignore_index=True)\n",
        "print(strawberries[\"Year\"].value_counts())\n",
        "print(strawberries[\"Period\"].value_counts())"
      ],
      "metadata": {
        "id": "5hNVqSrkwxgf",
        "colab": {
          "base_uri": "https://localhost:8080/"
        },
        "outputId": "a477688f-ad27-4649-ef7d-3ca06cbf68f2"
      },
      "execution_count": null,
      "outputs": [
        {
          "output_type": "stream",
          "name": "stdout",
          "text": [
            "1998    12\n",
            "2011    12\n",
            "2021    12\n",
            "2020    12\n",
            "2019    12\n",
            "2018    12\n",
            "2017    12\n",
            "2016    12\n",
            "2015    12\n",
            "2014    12\n",
            "2013    12\n",
            "2012    12\n",
            "2010    12\n",
            "1999    12\n",
            "2009    12\n",
            "2008    12\n",
            "2007    12\n",
            "2006    12\n",
            "2005    12\n",
            "2004    12\n",
            "2003    12\n",
            "2002    12\n",
            "2001    12\n",
            "2000    12\n",
            "2022    12\n",
            "Name: Year, dtype: int64\n",
            "M01    25\n",
            "M02    25\n",
            "M03    25\n",
            "M04    25\n",
            "M05    25\n",
            "M06    25\n",
            "M07    25\n",
            "M08    25\n",
            "M09    25\n",
            "M10    25\n",
            "M11    25\n",
            "M12    25\n",
            "Name: Period, dtype: int64\n"
          ]
        },
        {
          "output_type": "stream",
          "name": "stderr",
          "text": [
            "<ipython-input-270-86d52e4efab6>:2: FutureWarning: The frame.append method is deprecated and will be removed from pandas in a future version. Use pandas.concat instead.\n",
            "  strawberries=strawberries.append(strawberriesimpute, ignore_index=True)\n",
            "<ipython-input-270-86d52e4efab6>:4: FutureWarning: The frame.append method is deprecated and will be removed from pandas in a future version. Use pandas.concat instead.\n",
            "  strawberries=strawberries.append(strawberriesimpute, ignore_index=True)\n"
          ]
        }
      ]
    },
    {
      "cell_type": "code",
      "source": [
        "print(tomatoes[\"Year\"].value_counts())\n",
        "print(tomatoes[\"Period\"].value_counts())"
      ],
      "metadata": {
        "id": "unS4z7j8xk9l",
        "colab": {
          "base_uri": "https://localhost:8080/"
        },
        "outputId": "f75bb6b6-112e-4622-ed37-c2849ee298f5"
      },
      "execution_count": null,
      "outputs": [
        {
          "output_type": "stream",
          "name": "stdout",
          "text": [
            "1998    12\n",
            "1999    12\n",
            "2021    12\n",
            "2019    12\n",
            "2018    12\n",
            "2017    12\n",
            "2016    12\n",
            "2015    12\n",
            "2014    12\n",
            "2012    12\n",
            "2011    12\n",
            "2010    12\n",
            "2009    12\n",
            "2008    12\n",
            "2007    12\n",
            "2006    12\n",
            "2005    12\n",
            "2004    12\n",
            "2003    12\n",
            "2002    12\n",
            "2001    12\n",
            "2000    12\n",
            "2022    12\n",
            "2013    11\n",
            "2020    10\n",
            "Name: Year, dtype: int64\n",
            "M01    25\n",
            "M02    25\n",
            "M05    25\n",
            "M06    25\n",
            "M07    25\n",
            "M08    25\n",
            "M09    25\n",
            "M11    25\n",
            "M12    25\n",
            "M03    24\n",
            "M04    24\n",
            "M10    24\n",
            "Name: Period, dtype: int64\n"
          ]
        }
      ]
    },
    {
      "cell_type": "code",
      "source": [
        "print(tomatoes[tomatoes[\"Year\"]==2013])\n",
        "print(tomatoes[tomatoes[\"Year\"]==2020])"
      ],
      "metadata": {
        "id": "HEHtKt9wylkw",
        "colab": {
          "base_uri": "https://localhost:8080/"
        },
        "outputId": "37d75281-f464-401a-a308-0f8662e254e9"
      },
      "execution_count": null,
      "outputs": [
        {
          "output_type": "stream",
          "name": "stdout",
          "text": [
            "         Series ID  Year Period     Label  Value\n",
            "394  APU0000712311  2013    M01  2013 Jan  1.545\n",
            "395  APU0000712311  2013    M02  2013 Feb  1.497\n",
            "396  APU0000712311  2013    M03  2013 Mar  1.493\n",
            "397  APU0000712311  2013    M04  2013 Apr  1.460\n",
            "398  APU0000712311  2013    M05  2013 May  1.454\n",
            "399  APU0000712311  2013    M06  2013 Jun  1.470\n",
            "400  APU0000712311  2013    M07  2013 Jul  1.430\n",
            "401  APU0000712311  2013    M08  2013 Aug  1.509\n",
            "402  APU0000712311  2013    M09  2013 Sep  1.566\n",
            "403  APU0000712311  2013    M11  2013 Nov  1.700\n",
            "404  APU0000712311  2013    M12  2013 Dec  1.727\n",
            "         Series ID  Year Period     Label  Value\n",
            "477  APU0000712311  2020    M01  2020 Jan  2.221\n",
            "478  APU0000712311  2020    M02  2020 Feb  2.197\n",
            "479  APU0000712311  2020    M05  2020 May  1.851\n",
            "480  APU0000712311  2020    M06  2020 Jun  1.922\n",
            "481  APU0000712311  2020    M07  2020 Jul  1.977\n",
            "482  APU0000712311  2020    M08  2020 Aug  1.874\n",
            "483  APU0000712311  2020    M09  2020 Sep  1.847\n",
            "484  APU0000712311  2020    M10  2020 Oct  1.911\n",
            "485  APU0000712311  2020    M11  2020 Nov  1.935\n",
            "486  APU0000712311  2020    M12  2020 Dec  1.893\n"
          ]
        }
      ]
    },
    {
      "cell_type": "code",
      "source": [
        "tomatoesimpute = {\"Series ID\":\"APU0000712311\", \"Year\":2013, \"Period\":\"M10\", \"Label\":\"2013 Oct\", \"Value\":1.633}\n",
        "tomatoes=tomatoes.append(tomatoesimpute, ignore_index=True)\n",
        "tomatoesimpute = {\"Series ID\":\"APU0000712311\", \"Year\":2020, \"Period\":\"M03\", \"Label\":\"2020 Mar\", \"Value\":2.082}\n",
        "tomatoes=tomatoes.append(tomatoesimpute, ignore_index=True)\n",
        "tomatoesimpute = {\"Series ID\":\"APU0000712311\", \"Year\":2020, \"Period\":\"M04\", \"Label\":\"2020 Apr\", \"Value\":1.967}\n",
        "tomatoes=tomatoes.append(tomatoesimpute, ignore_index=True)\n",
        "tomatoes.drop_duplicates(subset=['Label'], keep='first', inplace=True)\n",
        "tomatoes = tomatoes.sort_values(by=['Year', 'Period'], ignore_index=True)\n",
        "print(tomatoes[\"Year\"].value_counts())\n",
        "print(tomatoes[\"Period\"].value_counts())"
      ],
      "metadata": {
        "id": "tLwvDO7bxxIP",
        "colab": {
          "base_uri": "https://localhost:8080/"
        },
        "outputId": "a35f1d41-96d9-4b74-eade-1ed75752952e"
      },
      "execution_count": null,
      "outputs": [
        {
          "output_type": "stream",
          "name": "stdout",
          "text": [
            "1998    12\n",
            "2011    12\n",
            "2021    12\n",
            "2020    12\n",
            "2019    12\n",
            "2018    12\n",
            "2017    12\n",
            "2016    12\n",
            "2015    12\n",
            "2014    12\n",
            "2013    12\n",
            "2012    12\n",
            "2010    12\n",
            "1999    12\n",
            "2009    12\n",
            "2008    12\n",
            "2007    12\n",
            "2006    12\n",
            "2005    12\n",
            "2004    12\n",
            "2003    12\n",
            "2002    12\n",
            "2001    12\n",
            "2000    12\n",
            "2022    12\n",
            "Name: Year, dtype: int64\n",
            "M01    25\n",
            "M02    25\n",
            "M03    25\n",
            "M04    25\n",
            "M05    25\n",
            "M06    25\n",
            "M07    25\n",
            "M08    25\n",
            "M09    25\n",
            "M10    25\n",
            "M11    25\n",
            "M12    25\n",
            "Name: Period, dtype: int64\n"
          ]
        },
        {
          "output_type": "stream",
          "name": "stderr",
          "text": [
            "<ipython-input-273-94cb73fe95e0>:2: FutureWarning: The frame.append method is deprecated and will be removed from pandas in a future version. Use pandas.concat instead.\n",
            "  tomatoes=tomatoes.append(tomatoesimpute, ignore_index=True)\n",
            "<ipython-input-273-94cb73fe95e0>:4: FutureWarning: The frame.append method is deprecated and will be removed from pandas in a future version. Use pandas.concat instead.\n",
            "  tomatoes=tomatoes.append(tomatoesimpute, ignore_index=True)\n",
            "<ipython-input-273-94cb73fe95e0>:6: FutureWarning: The frame.append method is deprecated and will be removed from pandas in a future version. Use pandas.concat instead.\n",
            "  tomatoes=tomatoes.append(tomatoesimpute, ignore_index=True)\n"
          ]
        }
      ]
    },
    {
      "cell_type": "code",
      "source": [
        "bananas = bananas.rename(columns={\"Value\":\"bananas_value\"})\n",
        "bananas_value = bananas[['bananas_value']]\n",
        "bananas_value.reset_index(inplace=True, drop=True)\n",
        "beef = beef.rename(columns={\"Value\":\"beef_value\"})\n",
        "beef_value = beef[['beef_value']]\n",
        "beef_value.reset_index(inplace=True, drop=True)\n",
        "bread = bread.rename(columns={\"Value\":\"bread_value\"})\n",
        "bread_value = bread[['bread_value']]\n",
        "bread_value.reset_index(inplace=True, drop=True)\n",
        "chicken = chicken.rename(columns={\"Value\":\"chicken_value\"})\n",
        "chicken_value = chicken[['chicken_value']]\n",
        "chicken_value.reset_index(inplace=True, drop=True)\n",
        "diesel = diesel.rename(columns={\"Value\":\"diesel_value\"})\n",
        "eggs = eggs.rename(columns={\"Value\":\"eggs_value\"})\n",
        "eggs_value = eggs[['eggs_value']]\n",
        "eggs_value.reset_index(inplace=True, drop=True)\n",
        "flour = flour.rename(columns={\"Value\":\"flour_value\"})\n",
        "flour_value = flour[['flour_value']]\n",
        "flour_value.reset_index(inplace=True, drop=True)\n",
        "lettuce = lettuce.rename(columns={\"Value\":\"lettuce_value\"})\n",
        "lettuce_value = lettuce[['lettuce_value']]\n",
        "lettuce_value.reset_index(inplace=True, drop=True)\n",
        "potatoes = potatoes.rename(columns={\"Value\":\"potatoes_value\"})\n",
        "potatoes_value = potatoes[['potatoes_value']]\n",
        "potatoes_value.reset_index(inplace=True, drop=True)\n",
        "strawberries = strawberries.rename(columns={\"Value\":\"strawberries_value\"})\n",
        "strawberries_value = strawberries[['strawberries_value']]\n",
        "strawberries_value.reset_index(inplace=True, drop=True)\n",
        "tomatoes = tomatoes.rename(columns={\"Value\":\"tomatoes_value\"})\n",
        "tomatoes_value = tomatoes[['tomatoes_value']]\n",
        "tomatoes_value.reset_index(inplace=True, drop=True)"
      ],
      "metadata": {
        "id": "idsbKRtNTvtc"
      },
      "execution_count": null,
      "outputs": []
    },
    {
      "cell_type": "code",
      "source": [
        "prices = diesel[['Label','diesel_value']]\n",
        "prices = pd.concat([prices,bananas_value, beef_value, bread_value, chicken_value, eggs_value, flour_value, potatoes_value, strawberries_value, tomatoes_value], axis=1)\n",
        "print(prices)"
      ],
      "metadata": {
        "id": "ca4Hau5zU4ED",
        "colab": {
          "base_uri": "https://localhost:8080/"
        },
        "outputId": "bf398b10-80d6-4d58-8f8f-3641ea0771c4"
      },
      "execution_count": null,
      "outputs": [
        {
          "output_type": "stream",
          "name": "stdout",
          "text": [
            "        Label  diesel_value  bananas_value  beef_value  bread_value  \\\n",
            "0    1998 Jan         1.250          0.473       1.457        0.855   \n",
            "1    1998 Feb         1.220          0.489       1.398        0.860   \n",
            "2    1998 Mar         1.192          0.475       1.413        0.853   \n",
            "3    1998 Apr         1.184          0.511       1.419        0.863   \n",
            "4    1998 May         1.190          0.510       1.411        0.866   \n",
            "..        ...           ...            ...         ...          ...   \n",
            "295  2022 Aug         5.165          0.643       4.937        1.756   \n",
            "296  2022 Sep         5.046          0.643       4.862        1.749   \n",
            "297  2022 Oct         5.232          0.634       4.836        1.814   \n",
            "298  2022 Nov         5.349          0.631       4.853        1.847   \n",
            "299  2022 Dec         4.913          0.628       4.800        1.873   \n",
            "\n",
            "     chicken_value  eggs_value  flour_value  potatoes_value  \\\n",
            "0            1.022       1.120        0.299           0.362   \n",
            "1            1.007       1.073        0.297           0.362   \n",
            "2            1.032       1.043        0.302           0.368   \n",
            "3            1.029       1.061        0.298           0.369   \n",
            "4            1.032       0.960        0.308           0.381   \n",
            "..             ...         ...          ...             ...   \n",
            "295          1.879       3.116        0.549           0.994   \n",
            "296          1.891       2.902        0.556           1.019   \n",
            "297          1.863       3.419        0.534           0.991   \n",
            "298          1.843       3.589        0.524           0.945   \n",
            "299          1.830       4.250        0.522           0.948   \n",
            "\n",
            "     strawberries_value  tomatoes_value  \n",
            "0                 2.135           1.452  \n",
            "1                 2.080           1.356  \n",
            "2                 1.751           1.515  \n",
            "3                 1.613           1.398  \n",
            "4                 1.386           1.472  \n",
            "..                  ...             ...  \n",
            "295               2.558           1.890  \n",
            "296               2.782           1.901  \n",
            "297               3.108           1.974  \n",
            "298               3.631           2.107  \n",
            "299               3.856           2.228  \n",
            "\n",
            "[300 rows x 11 columns]\n"
          ]
        }
      ]
    },
    {
      "cell_type": "code",
      "source": [
        "import matplotlib.pyplot as plt\n",
        "prices.set_index('Label').plot();"
      ],
      "metadata": {
        "colab": {
          "base_uri": "https://localhost:8080/",
          "height": 453
        },
        "id": "APxsn9ePWTOV",
        "outputId": "d791d6d0-1a5b-45ce-d65e-5c88ca102771"
      },
      "execution_count": null,
      "outputs": [
        {
          "output_type": "display_data",
          "data": {
            "text/plain": [
              "<Figure size 640x480 with 1 Axes>"
            ],
            "image/png": "[encoded data removed]"
          },
          "metadata": {}
        }
      ]
    },
    {
      "cell_type": "code",
      "source": [
        "diesel2019 = diesel[diesel['Year']<=2019]\n",
        "lettuce2019 = lettuce[lettuce['Year']<=2019]\n",
        "print(diesel2019['Period'].value_counts())\n",
        "print(lettuce2019['Period'].value_counts())"
      ],
      "metadata": {
        "colab": {
          "base_uri": "https://localhost:8080/"
        },
        "id": "a0UAHxTVXWwi",
        "outputId": "af7bdc79-d062-40b8-f857-0691909c0f9b"
      },
      "execution_count": null,
      "outputs": [
        {
          "output_type": "stream",
          "name": "stdout",
          "text": [
            "M01    22\n",
            "M02    22\n",
            "M03    22\n",
            "M04    22\n",
            "M05    22\n",
            "M06    22\n",
            "M07    22\n",
            "M08    22\n",
            "M09    22\n",
            "M10    22\n",
            "M11    22\n",
            "M12    22\n",
            "Name: Period, dtype: int64\n",
            "M01    22\n",
            "M02    22\n",
            "M03    22\n",
            "M04    22\n",
            "M05    22\n",
            "M06    22\n",
            "M07    22\n",
            "M08    22\n",
            "M09    22\n",
            "M10    22\n",
            "M11    22\n",
            "M12    22\n",
            "Name: Period, dtype: int64\n"
          ]
        }
      ]
    },
    {
      "cell_type": "code",
      "source": [
        "lettuce2019 = lettuce2019.rename(columns={\"Value\":\"lettuce_value\"})\n",
        "lettuce_value2019 = lettuce2019[['lettuce_value']]\n",
        "lettuce_value2019.reset_index(inplace=True, drop=True)\n",
        "prices2019 = diesel2019[['Label','diesel_value']]\n",
        "prices2019 = pd.concat([prices2019, lettuce_value2019], axis=1)\n",
        "print(prices2019)\n",
        "prices2019.set_index('Label').plot();"
      ],
      "metadata": {
        "colab": {
          "base_uri": "https://localhost:8080/",
          "height": 698
        },
        "id": "V4oV3qvcYFGy",
        "outputId": "cdbf735a-8049-4a2f-bb3d-8467cff3af06"
      },
      "execution_count": null,
      "outputs": [
        {
          "output_type": "stream",
          "name": "stdout",
          "text": [
            "        Label  diesel_value  lettuce_value\n",
            "0    1998 Jan         1.250          1.072\n",
            "1    1998 Feb         1.220          0.643\n",
            "2    1998 Mar         1.192          0.695\n",
            "3    1998 Apr         1.184          0.837\n",
            "4    1998 May         1.190          0.877\n",
            "..        ...           ...            ...\n",
            "259  2019 Aug         3.030          1.143\n",
            "260  2019 Sep         3.033          1.107\n",
            "261  2019 Oct         3.086          1.134\n",
            "262  2019 Nov         3.090          1.337\n",
            "263  2019 Dec         3.089          1.304\n",
            "\n",
            "[264 rows x 3 columns]\n"
          ]
        },
        {
          "output_type": "display_data",
          "data": {
            "text/plain": [
              "<Figure size 640x480 with 1 Axes>"
            ],
            "image/png": "[encoded data removed]"
          },
          "metadata": {}
        }
      ]
    },
    {
      "cell_type": "code",
      "source": [
        "from datetime import datetime as dt\n",
        "prices['Label'] = pd.to_datetime(prices['Label'], format='%Y %b')\n",
        "prices2019['Label'] = pd.to_datetime(prices2019['Label'], format='%Y %b')\n",
        "prices['Label'] = prices['Label'].dt.strftime('%Y %b')\n",
        "prices2019['Label'] = prices2019['Label'].dt.strftime('%Y %b')"
      ],
      "metadata": {
        "id": "R3m9JBpMaVzA"
      },
      "execution_count": null,
      "outputs": []
    },
    {
      "cell_type": "code",
      "source": [
        "prices.dtypes"
      ],
      "metadata": {
        "colab": {
          "base_uri": "https://localhost:8080/"
        },
        "id": "fMqbQbB1B-t3",
        "outputId": "eaccb244-205f-4fb2-96bc-8df2387fca85"
      },
      "execution_count": null,
      "outputs": [
        {
          "output_type": "execute_result",
          "data": {
            "text/plain": [
              "Label                  object\n",
              "diesel_value          float64\n",
              "bananas_value         float64\n",
              "beef_value            float64\n",
              "bread_value           float64\n",
              "chicken_value         float64\n",
              "eggs_value            float64\n",
              "flour_value           float64\n",
              "potatoes_value        float64\n",
              "strawberries_value    float64\n",
              "tomatoes_value        float64\n",
              "dtype: object"
            ]
          },
          "metadata": {},
          "execution_count": 280
        }
      ]
    },
    {
      "cell_type": "code",
      "source": [
        "#prices.set_index('Label', inplace=True)\n",
        "#prices2019.set_index('Label', inplace=True)\n",
        "print(prices.dtypes)\n",
        "print(prices2019.dtypes)\n",
        "print(prices)\n",
        "print(prices2019)"
      ],
      "metadata": {
        "colab": {
          "base_uri": "https://localhost:8080/"
        },
        "id": "69MceWKFB8MU",
        "outputId": "d6192cf2-8572-443f-83ab-0c3c49da3436"
      },
      "execution_count": null,
      "outputs": [
        {
          "output_type": "stream",
          "name": "stdout",
          "text": [
            "Label                  object\n",
            "diesel_value          float64\n",
            "bananas_value         float64\n",
            "beef_value            float64\n",
            "bread_value           float64\n",
            "chicken_value         float64\n",
            "eggs_value            float64\n",
            "flour_value           float64\n",
            "potatoes_value        float64\n",
            "strawberries_value    float64\n",
            "tomatoes_value        float64\n",
            "dtype: object\n",
            "Label             object\n",
            "diesel_value     float64\n",
            "lettuce_value    float64\n",
            "dtype: object\n",
            "        Label  diesel_value  bananas_value  beef_value  bread_value  \\\n",
            "0    1998 Jan         1.250          0.473       1.457        0.855   \n",
            "1    1998 Feb         1.220          0.489       1.398        0.860   \n",
            "2    1998 Mar         1.192          0.475       1.413        0.853   \n",
            "3    1998 Apr         1.184          0.511       1.419        0.863   \n",
            "4    1998 May         1.190          0.510       1.411        0.866   \n",
            "..        ...           ...            ...         ...          ...   \n",
            "295  2022 Aug         5.165          0.643       4.937        1.756   \n",
            "296  2022 Sep         5.046          0.643       4.862        1.749   \n",
            "297  2022 Oct         5.232          0.634       4.836        1.814   \n",
            "298  2022 Nov         5.349          0.631       4.853        1.847   \n",
            "299  2022 Dec         4.913          0.628       4.800        1.873   \n",
            "\n",
            "     chicken_value  eggs_value  flour_value  potatoes_value  \\\n",
            "0            1.022       1.120        0.299           0.362   \n",
            "1            1.007       1.073        0.297           0.362   \n",
            "2            1.032       1.043        0.302           0.368   \n",
            "3            1.029       1.061        0.298           0.369   \n",
            "4            1.032       0.960        0.308           0.381   \n",
            "..             ...         ...          ...             ...   \n",
            "295          1.879       3.116        0.549           0.994   \n",
            "296          1.891       2.902        0.556           1.019   \n",
            "297          1.863       3.419        0.534           0.991   \n",
            "298          1.843       3.589        0.524           0.945   \n",
            "299          1.830       4.250        0.522           0.948   \n",
            "\n",
            "     strawberries_value  tomatoes_value  \n",
            "0                 2.135           1.452  \n",
            "1                 2.080           1.356  \n",
            "2                 1.751           1.515  \n",
            "3                 1.613           1.398  \n",
            "4                 1.386           1.472  \n",
            "..                  ...             ...  \n",
            "295               2.558           1.890  \n",
            "296               2.782           1.901  \n",
            "297               3.108           1.974  \n",
            "298               3.631           2.107  \n",
            "299               3.856           2.228  \n",
            "\n",
            "[300 rows x 11 columns]\n",
            "        Label  diesel_value  lettuce_value\n",
            "0    1998 Jan         1.250          1.072\n",
            "1    1998 Feb         1.220          0.643\n",
            "2    1998 Mar         1.192          0.695\n",
            "3    1998 Apr         1.184          0.837\n",
            "4    1998 May         1.190          0.877\n",
            "..        ...           ...            ...\n",
            "259  2019 Aug         3.030          1.143\n",
            "260  2019 Sep         3.033          1.107\n",
            "261  2019 Oct         3.086          1.134\n",
            "262  2019 Nov         3.090          1.337\n",
            "263  2019 Dec         3.089          1.304\n",
            "\n",
            "[264 rows x 3 columns]\n"
          ]
        }
      ]
    },
    {
      "cell_type": "code",
      "source": [
        "print(prices.isnull().sum())\n",
        "print(prices2019.isnull().sum())"
      ],
      "metadata": {
        "colab": {
          "base_uri": "https://localhost:8080/"
        },
        "id": "XT3V64KMDQ7-",
        "outputId": "3098b48b-adc3-4bbc-cc5b-3608810d75f2"
      },
      "execution_count": null,
      "outputs": [
        {
          "output_type": "stream",
          "name": "stdout",
          "text": [
            "Label                 0\n",
            "diesel_value          0\n",
            "bananas_value         0\n",
            "beef_value            0\n",
            "bread_value           0\n",
            "chicken_value         0\n",
            "eggs_value            0\n",
            "flour_value           0\n",
            "potatoes_value        0\n",
            "strawberries_value    0\n",
            "tomatoes_value        0\n",
            "dtype: int64\n",
            "Label            0\n",
            "diesel_value     0\n",
            "lettuce_value    0\n",
            "dtype: int64\n"
          ]
        }
      ]
    },
    {
      "cell_type": "code",
      "source": [
        "from statsmodels.tsa.stattools import grangercausalitytests as gct\n",
        "gct(prices[['bananas_value', 'diesel_value']], maxlag=1)\n",
        "gct(prices[['diesel_value','bananas_value']], maxlag=1)"
      ],
      "metadata": {
        "colab": {
          "base_uri": "https://localhost:8080/"
        },
        "id": "qR1zx4KGC_g_",
        "outputId": "9d5eda9b-8245-4580-8cae-d4c4afd740c6"
      },
      "execution_count": null,
      "outputs": [
        {
          "output_type": "stream",
          "name": "stdout",
          "text": [
            "\n",
            "Granger Causality\n",
            "number of lags (no zero) 1\n",
            "ssr based F test:         F=8.4802  , p=0.0039  , df_denom=296, df_num=1\n",
            "ssr based chi2 test:   chi2=8.5662  , p=0.0034  , df=1\n",
            "likelihood ratio test: chi2=8.4457  , p=0.0037  , df=1\n",
            "parameter F test:         F=8.4802  , p=0.0039  , df_denom=296, df_num=1\n",
            "\n",
            "Granger Causality\n",
            "number of lags (no zero) 1\n",
            "ssr based F test:         F=0.0044  , p=0.9475  , df_denom=296, df_num=1\n",
            "ssr based chi2 test:   chi2=0.0044  , p=0.9471  , df=1\n",
            "likelihood ratio test: chi2=0.0044  , p=0.9471  , df=1\n",
            "parameter F test:         F=0.0044  , p=0.9475  , df_denom=296, df_num=1\n"
          ]
        },
        {
          "output_type": "execute_result",
          "data": {
            "text/plain": [
              "{1: ({'ssr_ftest': (0.004350242286473185, 0.9474570889182683, 296.0, 1),\n",
              "   'ssr_chi2test': (0.004394332579917171, 0.9471471338339039, 1),\n",
              "   'lrtest': (0.004394300289277453, 0.9471473277379349, 1),\n",
              "   'params_ftest': (0.0043502422865803305, 0.9474570889174756, 296.0, 1.0)},\n",
              "  [<statsmodels.regression.linear_model.RegressionResultsWrapper at 0x7f5787a832e0>,\n",
              "   <statsmodels.regression.linear_model.RegressionResultsWrapper at 0x7f5787a80580>,\n",
              "   array([[0., 1., 0.]])])}"
            ]
          },
          "metadata": {},
          "execution_count": 289
        }
      ]
    },
    {
      "cell_type": "code",
      "source": [
        "gct(prices[['beef_value', 'diesel_value']], maxlag=1)\n",
        "gct(prices[['diesel_value','beef_value']], maxlag=1)"
      ],
      "metadata": {
        "colab": {
          "base_uri": "https://localhost:8080/"
        },
        "id": "cvNO_I2rOSEl",
        "outputId": "859d1ff8-49d5-4ef2-b653-ab2642434c77"
      },
      "execution_count": null,
      "outputs": [
        {
          "output_type": "stream",
          "name": "stdout",
          "text": [
            "\n",
            "Granger Causality\n",
            "number of lags (no zero) 1\n",
            "ssr based F test:         F=5.0088  , p=0.0260  , df_denom=296, df_num=1\n",
            "ssr based chi2 test:   chi2=5.0596  , p=0.0245  , df=1\n",
            "likelihood ratio test: chi2=5.0172  , p=0.0251  , df=1\n",
            "parameter F test:         F=5.0088  , p=0.0260  , df_denom=296, df_num=1\n",
            "\n",
            "Granger Causality\n",
            "number of lags (no zero) 1\n",
            "ssr based F test:         F=0.3164  , p=0.5742  , df_denom=296, df_num=1\n",
            "ssr based chi2 test:   chi2=0.3196  , p=0.5718  , df=1\n",
            "likelihood ratio test: chi2=0.3195  , p=0.5719  , df=1\n",
            "parameter F test:         F=0.3164  , p=0.5742  , df_denom=296, df_num=1\n"
          ]
        },
        {
          "output_type": "execute_result",
          "data": {
            "text/plain": [
              "{1: ({'ssr_ftest': (0.316415121436443, 0.5741957872744528, 296.0, 1),\n",
              "   'ssr_chi2test': (0.31962203145100154, 0.5718348787704173, 1),\n",
              "   'lrtest': (0.3194513199150606, 0.5719375682792552, 1),\n",
              "   'params_ftest': (0.31641512143634043, 0.5741957872744727, 296.0, 1.0)},\n",
              "  [<statsmodels.regression.linear_model.RegressionResultsWrapper at 0x7f57877ec370>,\n",
              "   <statsmodels.regression.linear_model.RegressionResultsWrapper at 0x7f57877ed6f0>,\n",
              "   array([[0., 1., 0.]])])}"
            ]
          },
          "metadata": {},
          "execution_count": 290
        }
      ]
    },
    {
      "cell_type": "code",
      "source": [
        "gct(prices[['bread_value', 'diesel_value']], maxlag=1)\n",
        "gct(prices[['diesel_value','bread_value']], maxlag=1)"
      ],
      "metadata": {
        "colab": {
          "base_uri": "https://localhost:8080/"
        },
        "id": "81dTV934OWkb",
        "outputId": "87167900-b832-440e-d05d-450999626fce"
      },
      "execution_count": null,
      "outputs": [
        {
          "output_type": "stream",
          "name": "stdout",
          "text": [
            "\n",
            "Granger Causality\n",
            "number of lags (no zero) 1\n",
            "ssr based F test:         F=10.4108 , p=0.0014  , df_denom=296, df_num=1\n",
            "ssr based chi2 test:   chi2=10.5163 , p=0.0012  , df=1\n",
            "likelihood ratio test: chi2=10.3356 , p=0.0013  , df=1\n",
            "parameter F test:         F=10.4108 , p=0.0014  , df_denom=296, df_num=1\n",
            "\n",
            "Granger Causality\n",
            "number of lags (no zero) 1\n",
            "ssr based F test:         F=0.6915  , p=0.4063  , df_denom=296, df_num=1\n",
            "ssr based chi2 test:   chi2=0.6985  , p=0.4033  , df=1\n",
            "likelihood ratio test: chi2=0.6977  , p=0.4036  , df=1\n",
            "parameter F test:         F=0.6915  , p=0.4063  , df_denom=296, df_num=1\n"
          ]
        },
        {
          "output_type": "execute_result",
          "data": {
            "text/plain": [
              "{1: ({'ssr_ftest': (0.6914716362892799, 0.4063345746979591, 296.0, 1),\n",
              "   'ssr_chi2test': (0.6984797947651847, 0.403294977159975, 1),\n",
              "   'lrtest': (0.6976652202624791, 0.4035693278909719, 1),\n",
              "   'params_ftest': (0.6914716362891931, 0.4063345746979926, 296.0, 1.0)},\n",
              "  [<statsmodels.regression.linear_model.RegressionResultsWrapper at 0x7f5787934a90>,\n",
              "   <statsmodels.regression.linear_model.RegressionResultsWrapper at 0x7f5787934220>,\n",
              "   array([[0., 1., 0.]])])}"
            ]
          },
          "metadata": {},
          "execution_count": 291
        }
      ]
    },
    {
      "cell_type": "code",
      "source": [
        "gct(prices[['chicken_value', 'diesel_value']], maxlag=1)\n",
        "gct(prices[['diesel_value','chicken_value']], maxlag=1)"
      ],
      "metadata": {
        "colab": {
          "base_uri": "https://localhost:8080/"
        },
        "id": "DBh_xUCiOaRb",
        "outputId": "afecc1cc-7d6e-48a3-82f3-d34031855487"
      },
      "execution_count": null,
      "outputs": [
        {
          "output_type": "stream",
          "name": "stdout",
          "text": [
            "\n",
            "Granger Causality\n",
            "number of lags (no zero) 1\n",
            "ssr based F test:         F=6.9704  , p=0.0087  , df_denom=296, df_num=1\n",
            "ssr based chi2 test:   chi2=7.0411  , p=0.0080  , df=1\n",
            "likelihood ratio test: chi2=6.9594  , p=0.0083  , df=1\n",
            "parameter F test:         F=6.9704  , p=0.0087  , df_denom=296, df_num=1\n",
            "\n",
            "Granger Causality\n",
            "number of lags (no zero) 1\n",
            "ssr based F test:         F=0.0877  , p=0.7673  , df_denom=296, df_num=1\n",
            "ssr based chi2 test:   chi2=0.0886  , p=0.7659  , df=1\n",
            "likelihood ratio test: chi2=0.0886  , p=0.7659  , df=1\n",
            "parameter F test:         F=0.0877  , p=0.7673  , df_denom=296, df_num=1\n"
          ]
        },
        {
          "output_type": "execute_result",
          "data": {
            "text/plain": [
              "{1: ({'ssr_ftest': (0.08774836458243596, 0.767267123189002, 296.0, 1),\n",
              "   'ssr_chi2test': (0.08863770611536605, 0.7659162266304116, 1),\n",
              "   'lrtest': (0.08862457051259298, 0.7659330658089711, 1),\n",
              "   'params_ftest': (0.08774836458252029, 0.767267123188875, 296.0, 1.0)},\n",
              "  [<statsmodels.regression.linear_model.RegressionResultsWrapper at 0x7f57877ee0e0>,\n",
              "   <statsmodels.regression.linear_model.RegressionResultsWrapper at 0x7f57877ee5c0>,\n",
              "   array([[0., 1., 0.]])])}"
            ]
          },
          "metadata": {},
          "execution_count": 292
        }
      ]
    },
    {
      "cell_type": "code",
      "source": [
        "gct(prices[['eggs_value', 'diesel_value']], maxlag=1)\n",
        "gct(prices[['diesel_value','eggs_value']], maxlag=1)"
      ],
      "metadata": {
        "colab": {
          "base_uri": "https://localhost:8080/"
        },
        "id": "ZXJDS6F6OeGz",
        "outputId": "92b051be-3c62-48f0-b456-32b7cbef16d1"
      },
      "execution_count": null,
      "outputs": [
        {
          "output_type": "stream",
          "name": "stdout",
          "text": [
            "\n",
            "Granger Causality\n",
            "number of lags (no zero) 1\n",
            "ssr based F test:         F=12.2139 , p=0.0005  , df_denom=296, df_num=1\n",
            "ssr based chi2 test:   chi2=12.3377 , p=0.0004  , df=1\n",
            "likelihood ratio test: chi2=12.0900 , p=0.0005  , df=1\n",
            "parameter F test:         F=12.2139 , p=0.0005  , df_denom=296, df_num=1\n",
            "\n",
            "Granger Causality\n",
            "number of lags (no zero) 1\n",
            "ssr based F test:         F=1.2515  , p=0.2642  , df_denom=296, df_num=1\n",
            "ssr based chi2 test:   chi2=1.2641  , p=0.2609  , df=1\n",
            "likelihood ratio test: chi2=1.2615  , p=0.2614  , df=1\n",
            "parameter F test:         F=1.2515  , p=0.2642  , df_denom=296, df_num=1\n"
          ]
        },
        {
          "output_type": "execute_result",
          "data": {
            "text/plain": [
              "{1: ({'ssr_ftest': (1.2514549763784133, 0.2641817921541829, 296.0, 1),\n",
              "   'ssr_chi2test': (1.2641386416795457, 0.26086915358884283, 1),\n",
              "   'lrtest': (1.2614738314821352, 0.26137229868204576, 1),\n",
              "   'params_ftest': (1.2514549763786058, 0.26418179215414417, 296.0, 1.0)},\n",
              "  [<statsmodels.regression.linear_model.RegressionResultsWrapper at 0x7f5787935480>,\n",
              "   <statsmodels.regression.linear_model.RegressionResultsWrapper at 0x7f57879349d0>,\n",
              "   array([[0., 1., 0.]])])}"
            ]
          },
          "metadata": {},
          "execution_count": 294
        }
      ]
    },
    {
      "cell_type": "code",
      "source": [
        "gct(prices[['flour_value', 'diesel_value']], maxlag=1)\n",
        "gct(prices[['diesel_value','flour_value']], maxlag=1)"
      ],
      "metadata": {
        "colab": {
          "base_uri": "https://localhost:8080/"
        },
        "id": "V8J9wC-SOkPq",
        "outputId": "14ac8377-6bf0-43b4-fb5a-682167d0e942"
      },
      "execution_count": null,
      "outputs": [
        {
          "output_type": "stream",
          "name": "stdout",
          "text": [
            "\n",
            "Granger Causality\n",
            "number of lags (no zero) 1\n",
            "ssr based F test:         F=13.6090 , p=0.0003  , df_denom=296, df_num=1\n",
            "ssr based chi2 test:   chi2=13.7469 , p=0.0002  , df=1\n",
            "likelihood ratio test: chi2=13.4403 , p=0.0002  , df=1\n",
            "parameter F test:         F=13.6090 , p=0.0003  , df_denom=296, df_num=1\n",
            "\n",
            "Granger Causality\n",
            "number of lags (no zero) 1\n",
            "ssr based F test:         F=2.0594  , p=0.1523  , df_denom=296, df_num=1\n",
            "ssr based chi2 test:   chi2=2.0802  , p=0.1492  , df=1\n",
            "likelihood ratio test: chi2=2.0730  , p=0.1499  , df=1\n",
            "parameter F test:         F=2.0594  , p=0.1523  , df_denom=296, df_num=1\n"
          ]
        },
        {
          "output_type": "execute_result",
          "data": {
            "text/plain": [
              "{1: ({'ssr_ftest': (2.059375120046051, 0.15232795292306975, 296.0, 1),\n",
              "   'ssr_chi2test': (2.080247165181653, 0.14921601282313543, 1),\n",
              "   'lrtest': (2.073044053467356, 0.14992202433366592, 1),\n",
              "   'params_ftest': (2.0593751200462433, 0.15232795292305804, 296.0, 1.0)},\n",
              "  [<statsmodels.regression.linear_model.RegressionResultsWrapper at 0x7f5787935a80>,\n",
              "   <statsmodels.regression.linear_model.RegressionResultsWrapper at 0x7f5787937e20>,\n",
              "   array([[0., 1., 0.]])])}"
            ]
          },
          "metadata": {},
          "execution_count": 295
        }
      ]
    },
    {
      "cell_type": "code",
      "source": [
        "gct(prices[['potatoes_value', 'diesel_value']], maxlag=1)\n",
        "gct(prices[['diesel_value','potatoes_value']], maxlag=1)"
      ],
      "metadata": {
        "colab": {
          "base_uri": "https://localhost:8080/"
        },
        "id": "STffohgeOphl",
        "outputId": "fb58b9f0-8d51-4625-a612-308d5fd56b97"
      },
      "execution_count": null,
      "outputs": [
        {
          "output_type": "stream",
          "name": "stdout",
          "text": [
            "\n",
            "Granger Causality\n",
            "number of lags (no zero) 1\n",
            "ssr based F test:         F=14.0819 , p=0.0002  , df_denom=296, df_num=1\n",
            "ssr based chi2 test:   chi2=14.2247 , p=0.0002  , df=1\n",
            "likelihood ratio test: chi2=13.8967 , p=0.0002  , df=1\n",
            "parameter F test:         F=14.0819 , p=0.0002  , df_denom=296, df_num=1\n",
            "\n",
            "Granger Causality\n",
            "number of lags (no zero) 1\n",
            "ssr based F test:         F=0.3748  , p=0.5409  , df_denom=296, df_num=1\n",
            "ssr based chi2 test:   chi2=0.3786  , p=0.5383  , df=1\n",
            "likelihood ratio test: chi2=0.3784  , p=0.5385  , df=1\n",
            "parameter F test:         F=0.3748  , p=0.5409  , df_denom=296, df_num=1\n"
          ]
        },
        {
          "output_type": "execute_result",
          "data": {
            "text/plain": [
              "{1: ({'ssr_ftest': (0.37482557449099313, 0.5408556015501305, 296.0, 1),\n",
              "   'ssr_chi2test': (0.37862448234056406, 0.5383403109269729, 1),\n",
              "   'lrtest': (0.37838495794017035, 0.5384688493386187, 1),\n",
              "   'params_ftest': (0.3748255744909425, 0.540855601550166, 296.0, 1.0)},\n",
              "  [<statsmodels.regression.linear_model.RegressionResultsWrapper at 0x7f578798cd90>,\n",
              "   <statsmodels.regression.linear_model.RegressionResultsWrapper at 0x7f578798faf0>,\n",
              "   array([[0., 1., 0.]])])}"
            ]
          },
          "metadata": {},
          "execution_count": 296
        }
      ]
    },
    {
      "cell_type": "code",
      "source": [
        "gct(prices[['strawberries_value', 'diesel_value']], maxlag=1)\n",
        "gct(prices[['diesel_value','strawberries_value']], maxlag=1)"
      ],
      "metadata": {
        "colab": {
          "base_uri": "https://localhost:8080/"
        },
        "id": "WD-J80W0Ox5U",
        "outputId": "15d432a8-effa-4e2f-862b-7743cf7e8af2"
      },
      "execution_count": null,
      "outputs": [
        {
          "output_type": "stream",
          "name": "stdout",
          "text": [
            "\n",
            "Granger Causality\n",
            "number of lags (no zero) 1\n",
            "ssr based F test:         F=7.3135  , p=0.0072  , df_denom=296, df_num=1\n",
            "ssr based chi2 test:   chi2=7.3876  , p=0.0066  , df=1\n",
            "likelihood ratio test: chi2=7.2978  , p=0.0069  , df=1\n",
            "parameter F test:         F=7.3135  , p=0.0072  , df_denom=296, df_num=1\n",
            "\n",
            "Granger Causality\n",
            "number of lags (no zero) 1\n",
            "ssr based F test:         F=0.0306  , p=0.8613  , df_denom=296, df_num=1\n",
            "ssr based chi2 test:   chi2=0.0309  , p=0.8605  , df=1\n",
            "likelihood ratio test: chi2=0.0309  , p=0.8605  , df=1\n",
            "parameter F test:         F=0.0306  , p=0.8613  , df_denom=296, df_num=1\n"
          ]
        },
        {
          "output_type": "execute_result",
          "data": {
            "text/plain": [
              "{1: ({'ssr_ftest': (0.030582009031774424, 0.8612957414464664, 296.0, 1),\n",
              "   'ssr_chi2test': (0.03089196182601538, 0.8604816369870885, 1),\n",
              "   'lrtest': (0.03089036609435425, 0.8604852035087048, 1),\n",
              "   'params_ftest': (0.0305820090318818, 0.8612957414461713, 296.0, 1.0)},\n",
              "  [<statsmodels.regression.linear_model.RegressionResultsWrapper at 0x7f5787935840>,\n",
              "   <statsmodels.regression.linear_model.RegressionResultsWrapper at 0x7f5787936710>,\n",
              "   array([[0., 1., 0.]])])}"
            ]
          },
          "metadata": {},
          "execution_count": 297
        }
      ]
    },
    {
      "cell_type": "code",
      "source": [
        "gct(prices[['tomatoes_value', 'diesel_value']], maxlag=1)\n",
        "gct(prices[['diesel_value','tomatoes_value']], maxlag=1)"
      ],
      "metadata": {
        "colab": {
          "base_uri": "https://localhost:8080/"
        },
        "id": "tgQv-KffO3SK",
        "outputId": "2770101a-e53e-416e-b05b-a139da03e33b"
      },
      "execution_count": null,
      "outputs": [
        {
          "output_type": "stream",
          "name": "stdout",
          "text": [
            "\n",
            "Granger Causality\n",
            "number of lags (no zero) 1\n",
            "ssr based F test:         F=6.9448  , p=0.0088  , df_denom=296, df_num=1\n",
            "ssr based chi2 test:   chi2=7.0152  , p=0.0081  , df=1\n",
            "likelihood ratio test: chi2=6.9342  , p=0.0085  , df=1\n",
            "parameter F test:         F=6.9448  , p=0.0088  , df_denom=296, df_num=1\n",
            "\n",
            "Granger Causality\n",
            "number of lags (no zero) 1\n",
            "ssr based F test:         F=0.7269  , p=0.3946  , df_denom=296, df_num=1\n",
            "ssr based chi2 test:   chi2=0.7343  , p=0.3915  , df=1\n",
            "likelihood ratio test: chi2=0.7334  , p=0.3918  , df=1\n",
            "parameter F test:         F=0.7269  , p=0.3946  , df_denom=296, df_num=1\n"
          ]
        },
        {
          "output_type": "execute_result",
          "data": {
            "text/plain": [
              "{1: ({'ssr_ftest': (0.7268993396130958, 0.39457940634851807, 296.0, 1),\n",
              "   'ssr_chi2test': (0.734266562649715, 0.39150371561896524, 1),\n",
              "   'lrtest': (0.7333664517188936, 0.3917941621322323, 1),\n",
              "   'params_ftest': (0.7268993396130834, 0.3945794063485396, 296.0, 1.0)},\n",
              "  [<statsmodels.regression.linear_model.RegressionResultsWrapper at 0x7f578798fbe0>,\n",
              "   <statsmodels.regression.linear_model.RegressionResultsWrapper at 0x7f578798c6a0>,\n",
              "   array([[0., 1., 0.]])])}"
            ]
          },
          "metadata": {},
          "execution_count": 299
        }
      ]
    },
    {
      "cell_type": "code",
      "source": [
        "gct(prices2019[['lettuce_value', 'diesel_value']], maxlag=1)\n",
        "gct(prices2019[['diesel_value','lettuce_value']], maxlag=1)"
      ],
      "metadata": {
        "colab": {
          "base_uri": "https://localhost:8080/"
        },
        "id": "VZY2A39gO7qq",
        "outputId": "0b513393-f218-4575-83af-9c1d7bcdcedf"
      },
      "execution_count": null,
      "outputs": [
        {
          "output_type": "stream",
          "name": "stdout",
          "text": [
            "\n",
            "Granger Causality\n",
            "number of lags (no zero) 1\n",
            "ssr based F test:         F=9.6699  , p=0.0021  , df_denom=260, df_num=1\n",
            "ssr based chi2 test:   chi2=9.7815  , p=0.0018  , df=1\n",
            "likelihood ratio test: chi2=9.6040  , p=0.0019  , df=1\n",
            "parameter F test:         F=9.6699  , p=0.0021  , df_denom=260, df_num=1\n",
            "\n",
            "Granger Causality\n",
            "number of lags (no zero) 1\n",
            "ssr based F test:         F=1.9584  , p=0.1629  , df_denom=260, df_num=1\n",
            "ssr based chi2 test:   chi2=1.9810  , p=0.1593  , df=1\n",
            "likelihood ratio test: chi2=1.9735  , p=0.1601  , df=1\n",
            "parameter F test:         F=1.9584  , p=0.1629  , df_denom=260, df_num=1\n"
          ]
        },
        {
          "output_type": "execute_result",
          "data": {
            "text/plain": [
              "{1: ({'ssr_ftest': (1.958358981692023, 0.16288085445178893, 260.0, 1),\n",
              "   'ssr_chi2test': (1.9809554314807771, 0.15928979023550632, 1),\n",
              "   'lrtest': (1.973532256498629, 0.16007343149713094, 1),\n",
              "   'params_ftest': (1.958358981692001, 0.16288085445178893, 260.0, 1.0)},\n",
              "  [<statsmodels.regression.linear_model.RegressionResultsWrapper at 0x7f578798f190>,\n",
              "   <statsmodels.regression.linear_model.RegressionResultsWrapper at 0x7f578798cdf0>,\n",
              "   array([[0., 1., 0.]])])}"
            ]
          },
          "metadata": {},
          "execution_count": 300
        }
      ]
    }
  ]
}